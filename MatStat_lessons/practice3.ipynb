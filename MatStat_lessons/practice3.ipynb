{
 "cells": [
  {
   "cell_type": "markdown",
   "metadata": {
    "colab_type": "text",
    "id": "snzQ6I-GNKuz"
   },
   "source": [
    "# Урок 3\n",
    "\n",
    "## Описательная статистика. Качественные и количественные характеристики популяции. Графическое представление данных\n",
    "\n",
    "### Генеральная совокупность и выборка\n",
    "\n",
    "__Генеральная совокупность__ — это множество, которое содержит данные обо всех объектах, соответствующих определённым характеристикам.\n",
    "\n",
    "__Выборка__ — это случайным образом выбранная часть генеральной совокупности.\n",
    "\n",
    "По выборкам можно оценивать характеристики рассматриваемых объектов. Например, если дана выборка из значений некоторой случайной величины, с помощью этой выборки можно попытаться оценить параметры этой случайной величины.\n",
    "\n",
    "__Статистика__ — это любая функция от выборки.\n",
    "\n",
    "Познакомимся со статистиками на примере датасета с данными по хоккеистам. Данные доступны [здесь](https://habr.com/post/301340/)."
   ]
  },
  {
   "cell_type": "code",
   "execution_count": 1,
   "metadata": {
    "colab": {},
    "colab_type": "code",
    "id": "MPDgZjuQNKvB"
   },
   "outputs": [],
   "source": [
    "import warnings\n",
    "\n",
    "import numpy as np\n",
    "import pandas as pd\n",
    "from matplotlib import pyplot as plt\n",
    "\n",
    "warnings.filterwarnings('ignore')"
   ]
  },
  {
   "cell_type": "markdown",
   "metadata": {},
   "source": [
    "Импортируем и подготовим данные."
   ]
  },
  {
   "cell_type": "code",
   "execution_count": 2,
   "metadata": {
    "colab": {},
    "colab_type": "code",
    "id": "MM9S4bbbNKvO"
   },
   "outputs": [
    {
     "data": {
      "text/html": [
       "<div>\n",
       "<style scoped>\n",
       "    .dataframe tbody tr th:only-of-type {\n",
       "        vertical-align: middle;\n",
       "    }\n",
       "\n",
       "    .dataframe tbody tr th {\n",
       "        vertical-align: top;\n",
       "    }\n",
       "\n",
       "    .dataframe thead th {\n",
       "        text-align: right;\n",
       "    }\n",
       "</style>\n",
       "<table border=\"1\" class=\"dataframe\">\n",
       "  <thead>\n",
       "    <tr style=\"text-align: right;\">\n",
       "      <th></th>\n",
       "      <th>year</th>\n",
       "      <th>country</th>\n",
       "      <th>no</th>\n",
       "      <th>name</th>\n",
       "      <th>position</th>\n",
       "      <th>side</th>\n",
       "      <th>height</th>\n",
       "      <th>weight</th>\n",
       "      <th>birth</th>\n",
       "      <th>club</th>\n",
       "      <th>age</th>\n",
       "      <th>cohort</th>\n",
       "      <th>bmi</th>\n",
       "    </tr>\n",
       "  </thead>\n",
       "  <tbody>\n",
       "    <tr>\n",
       "      <th>0</th>\n",
       "      <td>2001</td>\n",
       "      <td>RUS</td>\n",
       "      <td>10</td>\n",
       "      <td>tverdovsky oleg</td>\n",
       "      <td>D</td>\n",
       "      <td>L</td>\n",
       "      <td>185</td>\n",
       "      <td>84.0</td>\n",
       "      <td>1976-05-18</td>\n",
       "      <td>anaheim mighty ducks</td>\n",
       "      <td>24.952772</td>\n",
       "      <td>1976</td>\n",
       "      <td>24.543462</td>\n",
       "    </tr>\n",
       "    <tr>\n",
       "      <th>1</th>\n",
       "      <td>2001</td>\n",
       "      <td>RUS</td>\n",
       "      <td>2</td>\n",
       "      <td>vichnevsky vitali</td>\n",
       "      <td>D</td>\n",
       "      <td>L</td>\n",
       "      <td>188</td>\n",
       "      <td>86.0</td>\n",
       "      <td>1980-03-18</td>\n",
       "      <td>anaheim mighty ducks</td>\n",
       "      <td>21.119781</td>\n",
       "      <td>1980</td>\n",
       "      <td>24.332277</td>\n",
       "    </tr>\n",
       "    <tr>\n",
       "      <th>2</th>\n",
       "      <td>2001</td>\n",
       "      <td>RUS</td>\n",
       "      <td>26</td>\n",
       "      <td>petrochinin evgeni</td>\n",
       "      <td>D</td>\n",
       "      <td>L</td>\n",
       "      <td>182</td>\n",
       "      <td>95.0</td>\n",
       "      <td>1976-02-07</td>\n",
       "      <td>severstal cherepovetal</td>\n",
       "      <td>25.229295</td>\n",
       "      <td>1976</td>\n",
       "      <td>28.680111</td>\n",
       "    </tr>\n",
       "    <tr>\n",
       "      <th>3</th>\n",
       "      <td>2001</td>\n",
       "      <td>RUS</td>\n",
       "      <td>28</td>\n",
       "      <td>zhdan alexander</td>\n",
       "      <td>D</td>\n",
       "      <td>R</td>\n",
       "      <td>178</td>\n",
       "      <td>85.0</td>\n",
       "      <td>1971-08-28</td>\n",
       "      <td>ak bars kazan</td>\n",
       "      <td>29.675565</td>\n",
       "      <td>1971</td>\n",
       "      <td>26.827421</td>\n",
       "    </tr>\n",
       "    <tr>\n",
       "      <th>4</th>\n",
       "      <td>2001</td>\n",
       "      <td>RUS</td>\n",
       "      <td>32</td>\n",
       "      <td>orekhovsky oleg</td>\n",
       "      <td>D</td>\n",
       "      <td>R</td>\n",
       "      <td>175</td>\n",
       "      <td>88.0</td>\n",
       "      <td>1977-11-03</td>\n",
       "      <td>dynamo moscow</td>\n",
       "      <td>23.490760</td>\n",
       "      <td>1977</td>\n",
       "      <td>28.734694</td>\n",
       "    </tr>\n",
       "  </tbody>\n",
       "</table>\n",
       "</div>"
      ],
      "text/plain": [
       "   year country  no                 name position side  height  weight  \\\n",
       "0  2001     RUS  10     tverdovsky oleg         D    L     185    84.0   \n",
       "1  2001     RUS   2   vichnevsky vitali         D    L     188    86.0   \n",
       "2  2001     RUS  26  petrochinin evgeni         D    L     182    95.0   \n",
       "3  2001     RUS  28     zhdan alexander         D    R     178    85.0   \n",
       "4  2001     RUS  32     orekhovsky oleg         D    R     175    88.0   \n",
       "\n",
       "       birth                     club        age  cohort        bmi  \n",
       "0 1976-05-18    anaheim mighty ducks   24.952772    1976  24.543462  \n",
       "1 1980-03-18    anaheim mighty ducks   21.119781    1980  24.332277  \n",
       "2 1976-02-07  severstal cherepovetal   25.229295    1976  28.680111  \n",
       "3 1971-08-28           ak bars kazan   29.675565    1971  26.827421  \n",
       "4 1977-11-03           dynamo moscow   23.490760    1977  28.734694  "
      ]
     },
     "execution_count": 2,
     "metadata": {},
     "output_type": "execute_result"
    }
   ],
   "source": [
    "df = pd.read_csv('hockey_players.csv', encoding='cp1251', parse_dates=['birth'])\n",
    "df = df.drop_duplicates(['name', 'birth'])\n",
    "\n",
    "df.head()"
   ]
  },
  {
   "cell_type": "markdown",
   "metadata": {},
   "source": [
    "Пусть дана выборка $x = (x_1, x_2, \\dots, x_m)$ из значений одномерной случайной величины. Одной из наиболее естественных статистик таких выборок является __среднее арифметическое__ (или __выборочное среднее__):\n",
    "\n",
    "$$\\overline{x} = \\dfrac{1}{m} \\displaystyle\\sum_{i = 1}^m x_i.$$\n",
    "\n",
    "Выборочное среднее является оценкой для математического ожидания.\n",
    "\n",
    "__Пример 1__\n",
    "\n",
    "Найдем выборочное среднее роста хоккеистов из датасета по формуле."
   ]
  },
  {
   "cell_type": "code",
   "execution_count": 3,
   "metadata": {
    "colab": {},
    "colab_type": "code",
    "id": "8yLDxwZINKv0",
    "outputId": "0155a822-b490-4a6b-e2f7-1f541b92c7a2"
   },
   "outputs": [
    {
     "data": {
      "text/plain": [
       "183.829386763813"
      ]
     },
     "execution_count": 3,
     "metadata": {},
     "output_type": "execute_result"
    }
   ],
   "source": [
    "mean_height = df['height'].sum() / df['height'].count()\n",
    "mean_height"
   ]
  },
  {
   "cell_type": "markdown",
   "metadata": {
    "colab_type": "text",
    "id": "apehcU5jNKwF"
   },
   "source": [
    "Эту же величину можно вычислить сразу с помощью метода `.mean`."
   ]
  },
  {
   "cell_type": "code",
   "execution_count": 4,
   "metadata": {
    "colab": {},
    "colab_type": "code",
    "id": "4tPnNQLtNKwJ",
    "outputId": "ac803f70-298f-420a-9402-0f40fc385e52"
   },
   "outputs": [
    {
     "data": {
      "text/plain": [
       "183.829386763813"
      ]
     },
     "execution_count": 4,
     "metadata": {},
     "output_type": "execute_result"
    }
   ],
   "source": [
    "df['height'].mean()"
   ]
  },
  {
   "cell_type": "markdown",
   "metadata": {},
   "source": [
    "Другой важной статистикой выборки является __среднее квадратическое отклонение__:\n",
    "\n",
    "$$\\sigma = \\sqrt{\\dfrac{1}{m} \\displaystyle\\sum_{i = 1}^m (x_i - \\overline{x})^2}.$$\n",
    "\n",
    "Оно показывает уровень «разброса» элементов выборки относительно выборочного среднего.\n",
    "\n",
    "__Пример 2__\n",
    "\n",
    "Посчитаем среднее квадратическое отклонение роста хоккеистов."
   ]
  },
  {
   "cell_type": "code",
   "execution_count": 5,
   "metadata": {
    "colab": {},
    "colab_type": "code",
    "id": "-iwdVe-hNKwe",
    "outputId": "cee32cc3-f0fc-46c6-f107-04db37e290e1"
   },
   "outputs": [
    {
     "data": {
      "text/plain": [
       "5.46679870562426"
      ]
     },
     "execution_count": 5,
     "metadata": {},
     "output_type": "execute_result"
    }
   ],
   "source": [
    "height_std = np.sqrt(((df['height'] - df['height'].mean()) ** 2).sum() / df['height'].count())\n",
    "height_std"
   ]
  },
  {
   "cell_type": "code",
   "execution_count": 8,
   "metadata": {
    "scrolled": true
   },
   "outputs": [
    {
     "data": {
      "text/plain": [
       "0         1.370335\n",
       "1        17.394015\n",
       "2         3.346656\n",
       "3        33.981750\n",
       "4        77.958071\n",
       "5        84.100147\n",
       "6        61.299297\n",
       "7         0.687882\n",
       "8        14.664203\n",
       "9        33.981750\n",
       "10       10.052788\n",
       "11        1.370335\n",
       "12      200.806279\n",
       "13       77.958071\n",
       "14       33.981750\n",
       "15        8.005429\n",
       "16      103.441374\n",
       "17        4.711562\n",
       "18        0.029109\n",
       "19       33.981750\n",
       "20       77.958071\n",
       "21       10.052788\n",
       "22       14.664203\n",
       "23       17.394015\n",
       "24        3.346656\n",
       "25        3.346656\n",
       "26       77.958071\n",
       "27       17.394015\n",
       "28       38.076468\n",
       "29        8.005429\n",
       "           ...    \n",
       "6248     14.664203\n",
       "6249      0.029109\n",
       "6250      0.029109\n",
       "6251      3.346656\n",
       "6256      0.029109\n",
       "6257     26.735241\n",
       "6258     14.664203\n",
       "6259      4.711562\n",
       "6260     10.052788\n",
       "6262     14.664203\n",
       "6264     14.664203\n",
       "6267     77.958071\n",
       "6268     51.417694\n",
       "6269     17.394015\n",
       "6272     77.958071\n",
       "6273     33.981750\n",
       "6274     51.417694\n",
       "6275     77.958071\n",
       "6277     77.958071\n",
       "6278      1.370335\n",
       "6279     51.417694\n",
       "6282     17.394015\n",
       "6283      1.370335\n",
       "6284     17.394015\n",
       "6285     33.981750\n",
       "6286     14.664203\n",
       "6288     33.981750\n",
       "6289     51.417694\n",
       "6290     17.394015\n",
       "6291     84.100147\n",
       "Name: height, Length: 3294, dtype: float64"
      ]
     },
     "execution_count": 8,
     "metadata": {},
     "output_type": "execute_result"
    }
   ],
   "source": [
    "(df['height'] - df['height'].mean()) ** 2"
   ]
  },
  {
   "cell_type": "markdown",
   "metadata": {
    "colab_type": "text",
    "id": "PcpU5rPFNKwm"
   },
   "source": [
    "Эту же величину можно вычислить сразу с помощью метода `.std`."
   ]
  },
  {
   "cell_type": "code",
   "execution_count": 9,
   "metadata": {
    "colab": {},
    "colab_type": "code",
    "id": "3FvEacT6NKwo",
    "outputId": "9b2e88aa-63a2-4ca0-9dae-aa88bd688c14"
   },
   "outputs": [
    {
     "data": {
      "text/plain": [
       "5.46679870562426"
      ]
     },
     "execution_count": 9,
     "metadata": {},
     "output_type": "execute_result"
    }
   ],
   "source": [
    "df['height'].std(ddof=0)"
   ]
  },
  {
   "cell_type": "markdown",
   "metadata": {},
   "source": [
    "Дисперсию случайной величины можно оценивать средним квадратическим отклонением выборки, возведённым в квадрат:\n",
    "\n",
    "$$\\sigma^2 = \\dfrac{1}{m} \\displaystyle\\sum_{i = 1}^m (x_i - \\overline{x})^2.$$\n",
    "\n",
    "\n",
    "Такая оценка дисперсии называется __смещённой выборочной дисперсией__.\n",
    "\n",
    "__Пример 3__\n",
    "\n",
    "Посчитаем дисперсию роста хоккеистов."
   ]
  },
  {
   "cell_type": "code",
   "execution_count": 10,
   "metadata": {
    "colab": {},
    "colab_type": "code",
    "id": "jNZh3cbjNKw6",
    "outputId": "c0047472-442e-4426-c936-d542c79b2084"
   },
   "outputs": [
    {
     "data": {
      "text/plain": [
       "29.885888087815086"
      ]
     },
     "execution_count": 10,
     "metadata": {},
     "output_type": "execute_result"
    }
   ],
   "source": [
    "height_variance = ((df['height'] - df['height'].mean()) ** 2).sum() / df['height'].count()\n",
    "height_variance"
   ]
  },
  {
   "cell_type": "markdown",
   "metadata": {},
   "source": [
    "__Несмещённая__ (или __исправленная__) __выборочная дисперсия__ вычисляется немного иначе:\n",
    "\n",
    "$$\\sigma_{\\text{unbiased}}^2 = \\dfrac{1}{m - 1} \\displaystyle\\sum_{i = 1}^m (x_i - \\overline{x})^2.$$\n",
    "\n",
    "Почему несмещённая?\n",
    "\n",
    "На самом деле каждый объект из выборки — это тоже случайная величина (поскольку выбирается _случайным_ образом). В таком случае и любая статистика (т.е. функция от выборки) является случайной величиной.\n",
    "\n",
    "Оценка некоторого параметра случайной величины называется __несмещённой__, если математическое ожидание этой оценки равняется реальному значению этого параметра.\n",
    "\n",
    "Например, выборочное среднее является несмещённой оценкой математического ожидания.\n",
    "\n",
    "Оказывается, среднее квадратическое отклонение, возведённое в квадрат, не является несмещённой оценкой реальной дисперсии: если берётся выборка $x = (x_1, x_2, \\dots, x_m)$ из значений случайной величины $X$, то\n",
    "\n",
    "$$M(\\sigma^2) = \\dfrac{m - 1}{m} \\cdot D(X).$$\n",
    "\n",
    "Поэтому для оценки дисперсии используется именно несмещённая выборочная дисперсия.\n",
    "\n",
    "__Пример 4__\n",
    "\n",
    "Посчитаем несмещённую выборочную дисперсию роста хоккеистов."
   ]
  },
  {
   "cell_type": "code",
   "execution_count": 11,
   "metadata": {
    "colab": {},
    "colab_type": "code",
    "id": "WyB-XRAeNKxQ",
    "outputId": "c3941a40-3ecc-456c-d978-5ae43d93be66"
   },
   "outputs": [
    {
     "data": {
      "text/plain": [
       "29.894963668771"
      ]
     },
     "execution_count": 11,
     "metadata": {},
     "output_type": "execute_result"
    }
   ],
   "source": [
    "height_variance2 = ((df['height'] - df['height'].mean())**2).sum() / (df['height'].count() - 1)\n",
    "height_variance2"
   ]
  },
  {
   "cell_type": "code",
   "execution_count": 12,
   "metadata": {},
   "outputs": [
    {
     "data": {
      "text/plain": [
       "29.885888087815086"
      ]
     },
     "execution_count": 12,
     "metadata": {},
     "output_type": "execute_result"
    }
   ],
   "source": [
    "height_variance"
   ]
  },
  {
   "cell_type": "code",
   "execution_count": 13,
   "metadata": {},
   "outputs": [
    {
     "data": {
      "text/plain": [
       "0.009075580955911988"
      ]
     },
     "execution_count": 13,
     "metadata": {},
     "output_type": "execute_result"
    }
   ],
   "source": [
    "abs(height_variance - height_variance2)"
   ]
  },
  {
   "cell_type": "code",
   "execution_count": 14,
   "metadata": {},
   "outputs": [
    {
     "data": {
      "text/plain": [
       "(3294, 13)"
      ]
     },
     "execution_count": 14,
     "metadata": {},
     "output_type": "execute_result"
    }
   ],
   "source": [
    "df.shape"
   ]
  },
  {
   "cell_type": "markdown",
   "metadata": {
    "colab_type": "text",
    "id": "cscW2xopNKxi"
   },
   "source": [
    "Оценки дисперсии можно посчитать с помощью метода `.var`. Смещённая:"
   ]
  },
  {
   "cell_type": "code",
   "execution_count": 15,
   "metadata": {
    "colab": {},
    "colab_type": "code",
    "id": "RdNP_457NKxk",
    "outputId": "189e7202-ff79-414b-8699-68f508bf4140"
   },
   "outputs": [
    {
     "data": {
      "text/plain": [
       "29.885888087815086"
      ]
     },
     "execution_count": 15,
     "metadata": {},
     "output_type": "execute_result"
    }
   ],
   "source": [
    "df['height'].var(ddof=0)"
   ]
  },
  {
   "cell_type": "markdown",
   "metadata": {
    "colab_type": "text",
    "id": "TJ_GG2LDNKx0"
   },
   "source": [
    "и несмещённая:"
   ]
  },
  {
   "cell_type": "code",
   "execution_count": 16,
   "metadata": {
    "colab": {},
    "colab_type": "code",
    "id": "oLdDIWUaNKx2",
    "outputId": "380d8ebb-b749-45c9-ac02-9b56296a5c46"
   },
   "outputs": [
    {
     "data": {
      "text/plain": [
       "29.894963668771"
      ]
     },
     "execution_count": 16,
     "metadata": {},
     "output_type": "execute_result"
    }
   ],
   "source": [
    "df['height'].var(ddof=1)"
   ]
  },
  {
   "cell_type": "markdown",
   "metadata": {
    "colab_type": "text",
    "id": "HGAvSJ_mNKx-"
   },
   "source": [
    "Аргумент `ddof` (_Delta Degrees of Freedom_) указывает то, какую величину нужно отнять от числа наблюдений $m$, которое находится в формуле дисперсии в делителе."
   ]
  },
  {
   "cell_type": "code",
   "execution_count": 17,
   "metadata": {
    "scrolled": true
   },
   "outputs": [
    {
     "name": "stdout",
     "output_type": "stream",
     "text": [
      "Help on function var in module pandas.core.frame:\n",
      "\n",
      "var(self, axis=None, skipna=None, level=None, ddof=1, numeric_only=None, **kwargs)\n",
      "    Return unbiased variance over requested axis.\n",
      "    \n",
      "    Normalized by N-1 by default. This can be changed using the ddof argument\n",
      "    \n",
      "    Parameters\n",
      "    ----------\n",
      "    axis : {index (0), columns (1)}\n",
      "    skipna : boolean, default True\n",
      "        Exclude NA/null values. If an entire row/column is NA, the result\n",
      "        will be NA\n",
      "    level : int or level name, default None\n",
      "        If the axis is a MultiIndex (hierarchical), count along a\n",
      "        particular level, collapsing into a Series\n",
      "    ddof : int, default 1\n",
      "        Delta Degrees of Freedom. The divisor used in calculations is N - ddof,\n",
      "        where N represents the number of elements.\n",
      "    numeric_only : boolean, default None\n",
      "        Include only float, int, boolean columns. If None, will attempt to use\n",
      "        everything, then use only numeric data. Not implemented for Series.\n",
      "    \n",
      "    Returns\n",
      "    -------\n",
      "    var : Series or DataFrame (if level specified)\n",
      "\n"
     ]
    }
   ],
   "source": [
    "help(pd.DataFrame.var)"
   ]
  },
  {
   "cell_type": "code",
   "execution_count": 18,
   "metadata": {
    "scrolled": true
   },
   "outputs": [
    {
     "name": "stdout",
     "output_type": "stream",
     "text": [
      "Help on function var in module numpy:\n",
      "\n",
      "var(a, axis=None, dtype=None, out=None, ddof=0, keepdims=<no value>)\n",
      "    Compute the variance along the specified axis.\n",
      "    \n",
      "    Returns the variance of the array elements, a measure of the spread of a\n",
      "    distribution.  The variance is computed for the flattened array by\n",
      "    default, otherwise over the specified axis.\n",
      "    \n",
      "    Parameters\n",
      "    ----------\n",
      "    a : array_like\n",
      "        Array containing numbers whose variance is desired.  If `a` is not an\n",
      "        array, a conversion is attempted.\n",
      "    axis : None or int or tuple of ints, optional\n",
      "        Axis or axes along which the variance is computed.  The default is to\n",
      "        compute the variance of the flattened array.\n",
      "    \n",
      "        .. versionadded:: 1.7.0\n",
      "    \n",
      "        If this is a tuple of ints, a variance is performed over multiple axes,\n",
      "        instead of a single axis or all the axes as before.\n",
      "    dtype : data-type, optional\n",
      "        Type to use in computing the variance.  For arrays of integer type\n",
      "        the default is `float32`; for arrays of float types it is the same as\n",
      "        the array type.\n",
      "    out : ndarray, optional\n",
      "        Alternate output array in which to place the result.  It must have\n",
      "        the same shape as the expected output, but the type is cast if\n",
      "        necessary.\n",
      "    ddof : int, optional\n",
      "        \"Delta Degrees of Freedom\": the divisor used in the calculation is\n",
      "        ``N - ddof``, where ``N`` represents the number of elements. By\n",
      "        default `ddof` is zero.\n",
      "    keepdims : bool, optional\n",
      "        If this is set to True, the axes which are reduced are left\n",
      "        in the result as dimensions with size one. With this option,\n",
      "        the result will broadcast correctly against the input array.\n",
      "    \n",
      "        If the default value is passed, then `keepdims` will not be\n",
      "        passed through to the `var` method of sub-classes of\n",
      "        `ndarray`, however any non-default value will be.  If the\n",
      "        sub-class' method does not implement `keepdims` any\n",
      "        exceptions will be raised.\n",
      "    \n",
      "    Returns\n",
      "    -------\n",
      "    variance : ndarray, see dtype parameter above\n",
      "        If ``out=None``, returns a new array containing the variance;\n",
      "        otherwise, a reference to the output array is returned.\n",
      "    \n",
      "    See Also\n",
      "    --------\n",
      "    std , mean, nanmean, nanstd, nanvar\n",
      "    numpy.doc.ufuncs : Section \"Output arguments\"\n",
      "    \n",
      "    Notes\n",
      "    -----\n",
      "    The variance is the average of the squared deviations from the mean,\n",
      "    i.e.,  ``var = mean(abs(x - x.mean())**2)``.\n",
      "    \n",
      "    The mean is normally calculated as ``x.sum() / N``, where ``N = len(x)``.\n",
      "    If, however, `ddof` is specified, the divisor ``N - ddof`` is used\n",
      "    instead.  In standard statistical practice, ``ddof=1`` provides an\n",
      "    unbiased estimator of the variance of a hypothetical infinite population.\n",
      "    ``ddof=0`` provides a maximum likelihood estimate of the variance for\n",
      "    normally distributed variables.\n",
      "    \n",
      "    Note that for complex numbers, the absolute value is taken before\n",
      "    squaring, so that the result is always real and nonnegative.\n",
      "    \n",
      "    For floating-point input, the variance is computed using the same\n",
      "    precision the input has.  Depending on the input data, this can cause\n",
      "    the results to be inaccurate, especially for `float32` (see example\n",
      "    below).  Specifying a higher-accuracy accumulator using the ``dtype``\n",
      "    keyword can alleviate this issue.\n",
      "    \n",
      "    Examples\n",
      "    --------\n",
      "    >>> a = np.array([[1, 2], [3, 4]])\n",
      "    >>> np.var(a)\n",
      "    1.25\n",
      "    >>> np.var(a, axis=0)\n",
      "    array([ 1.,  1.])\n",
      "    >>> np.var(a, axis=1)\n",
      "    array([ 0.25,  0.25])\n",
      "    \n",
      "    In single precision, var() can be inaccurate:\n",
      "    \n",
      "    >>> a = np.zeros((2, 512*512), dtype=np.float32)\n",
      "    >>> a[0, :] = 1.0\n",
      "    >>> a[1, :] = 0.1\n",
      "    >>> np.var(a)\n",
      "    0.20250003\n",
      "    \n",
      "    Computing the variance in float64 is more accurate:\n",
      "    \n",
      "    >>> np.var(a, dtype=np.float64)\n",
      "    0.20249999932944759\n",
      "    >>> ((1-0.55)**2 + (0.1-0.55)**2)/2\n",
      "    0.2025\n",
      "\n"
     ]
    }
   ],
   "source": [
    "help(np.var)"
   ]
  },
  {
   "cell_type": "markdown",
   "metadata": {},
   "source": [
    "### Мода,  медиана, квантиль\n",
    "\n",
    "__Мода выборки__ — наиболее часто встречающееся в выборке значение. __Мода дискретной случайной величины__ — самое вероятное её значение.\n",
    "\n",
    "Вычисление моды отличается для дискретных и _непрерывных_ случайных величин (о последних мы поговорим позже). Поэтому для примера возьмём какой-нибудь дискретный признак из наших данных. Таковым является, например, вес: он в таблице представлен целыми числами. \n",
    "\n",
    "__Пример 5__\n",
    "\n",
    "Для начала посмотрим, как часто встречаются в выборке те или иные значения веса. Это можно сделать с помощью метода `.value_counts`:"
   ]
  },
  {
   "cell_type": "code",
   "execution_count": 19,
   "metadata": {},
   "outputs": [
    {
     "data": {
      "text/html": [
       "<div>\n",
       "<style scoped>\n",
       "    .dataframe tbody tr th:only-of-type {\n",
       "        vertical-align: middle;\n",
       "    }\n",
       "\n",
       "    .dataframe tbody tr th {\n",
       "        vertical-align: top;\n",
       "    }\n",
       "\n",
       "    .dataframe thead th {\n",
       "        text-align: right;\n",
       "    }\n",
       "</style>\n",
       "<table border=\"1\" class=\"dataframe\">\n",
       "  <thead>\n",
       "    <tr style=\"text-align: right;\">\n",
       "      <th></th>\n",
       "      <th>year</th>\n",
       "      <th>country</th>\n",
       "      <th>no</th>\n",
       "      <th>name</th>\n",
       "      <th>position</th>\n",
       "      <th>side</th>\n",
       "      <th>height</th>\n",
       "      <th>weight</th>\n",
       "      <th>birth</th>\n",
       "      <th>club</th>\n",
       "      <th>age</th>\n",
       "      <th>cohort</th>\n",
       "      <th>bmi</th>\n",
       "    </tr>\n",
       "  </thead>\n",
       "  <tbody>\n",
       "    <tr>\n",
       "      <th>0</th>\n",
       "      <td>2001</td>\n",
       "      <td>RUS</td>\n",
       "      <td>10</td>\n",
       "      <td>tverdovsky oleg</td>\n",
       "      <td>D</td>\n",
       "      <td>L</td>\n",
       "      <td>185</td>\n",
       "      <td>84.0</td>\n",
       "      <td>1976-05-18</td>\n",
       "      <td>anaheim mighty ducks</td>\n",
       "      <td>24.952772</td>\n",
       "      <td>1976</td>\n",
       "      <td>24.543462</td>\n",
       "    </tr>\n",
       "    <tr>\n",
       "      <th>1</th>\n",
       "      <td>2001</td>\n",
       "      <td>RUS</td>\n",
       "      <td>2</td>\n",
       "      <td>vichnevsky vitali</td>\n",
       "      <td>D</td>\n",
       "      <td>L</td>\n",
       "      <td>188</td>\n",
       "      <td>86.0</td>\n",
       "      <td>1980-03-18</td>\n",
       "      <td>anaheim mighty ducks</td>\n",
       "      <td>21.119781</td>\n",
       "      <td>1980</td>\n",
       "      <td>24.332277</td>\n",
       "    </tr>\n",
       "    <tr>\n",
       "      <th>2</th>\n",
       "      <td>2001</td>\n",
       "      <td>RUS</td>\n",
       "      <td>26</td>\n",
       "      <td>petrochinin evgeni</td>\n",
       "      <td>D</td>\n",
       "      <td>L</td>\n",
       "      <td>182</td>\n",
       "      <td>95.0</td>\n",
       "      <td>1976-02-07</td>\n",
       "      <td>severstal cherepovetal</td>\n",
       "      <td>25.229295</td>\n",
       "      <td>1976</td>\n",
       "      <td>28.680111</td>\n",
       "    </tr>\n",
       "    <tr>\n",
       "      <th>3</th>\n",
       "      <td>2001</td>\n",
       "      <td>RUS</td>\n",
       "      <td>28</td>\n",
       "      <td>zhdan alexander</td>\n",
       "      <td>D</td>\n",
       "      <td>R</td>\n",
       "      <td>178</td>\n",
       "      <td>85.0</td>\n",
       "      <td>1971-08-28</td>\n",
       "      <td>ak bars kazan</td>\n",
       "      <td>29.675565</td>\n",
       "      <td>1971</td>\n",
       "      <td>26.827421</td>\n",
       "    </tr>\n",
       "    <tr>\n",
       "      <th>4</th>\n",
       "      <td>2001</td>\n",
       "      <td>RUS</td>\n",
       "      <td>32</td>\n",
       "      <td>orekhovsky oleg</td>\n",
       "      <td>D</td>\n",
       "      <td>R</td>\n",
       "      <td>175</td>\n",
       "      <td>88.0</td>\n",
       "      <td>1977-11-03</td>\n",
       "      <td>dynamo moscow</td>\n",
       "      <td>23.490760</td>\n",
       "      <td>1977</td>\n",
       "      <td>28.734694</td>\n",
       "    </tr>\n",
       "  </tbody>\n",
       "</table>\n",
       "</div>"
      ],
      "text/plain": [
       "   year country  no                 name position side  height  weight  \\\n",
       "0  2001     RUS  10     tverdovsky oleg         D    L     185    84.0   \n",
       "1  2001     RUS   2   vichnevsky vitali         D    L     188    86.0   \n",
       "2  2001     RUS  26  petrochinin evgeni         D    L     182    95.0   \n",
       "3  2001     RUS  28     zhdan alexander         D    R     178    85.0   \n",
       "4  2001     RUS  32     orekhovsky oleg         D    R     175    88.0   \n",
       "\n",
       "       birth                     club        age  cohort        bmi  \n",
       "0 1976-05-18    anaheim mighty ducks   24.952772    1976  24.543462  \n",
       "1 1980-03-18    anaheim mighty ducks   21.119781    1980  24.332277  \n",
       "2 1976-02-07  severstal cherepovetal   25.229295    1976  28.680111  \n",
       "3 1971-08-28           ak bars kazan   29.675565    1971  26.827421  \n",
       "4 1977-11-03           dynamo moscow   23.490760    1977  28.734694  "
      ]
     },
     "execution_count": 19,
     "metadata": {},
     "output_type": "execute_result"
    }
   ],
   "source": [
    "df.head()"
   ]
  },
  {
   "cell_type": "code",
   "execution_count": 20,
   "metadata": {
    "scrolled": true
   },
   "outputs": [
    {
     "data": {
      "text/plain": [
       "90.0     225\n",
       "88.0     213\n",
       "80.0     203\n",
       "85.0     199\n",
       "86.0     182\n",
       "84.0     179\n",
       "83.0     159\n",
       "82.0     159\n",
       "93.0     151\n",
       "91.0     149\n",
       "87.0     147\n",
       "92.0     133\n",
       "89.0     133\n",
       "95.0     121\n",
       "78.0      93\n",
       "94.0      86\n",
       "98.0      81\n",
       "81.0      73\n",
       "100.0     73\n",
       "96.0      69\n",
       "79.0      66\n",
       "75.0      54\n",
       "77.0      43\n",
       "97.0      40\n",
       "76.0      39\n",
       "99.0      31\n",
       "74.0      28\n",
       "72.0      23\n",
       "103.0     23\n",
       "104.0     17\n",
       "101.0     17\n",
       "73.0      16\n",
       "102.0     13\n",
       "105.0     13\n",
       "70.0       9\n",
       "106.0      7\n",
       "108.0      6\n",
       "71.0       6\n",
       "110.0      4\n",
       "109.0      3\n",
       "107.0      2\n",
       "117.0      2\n",
       "112.0      1\n",
       "116.0      1\n",
       "81.5       1\n",
       "65.0       1\n",
       "Name: weight, dtype: int64"
      ]
     },
     "execution_count": 20,
     "metadata": {},
     "output_type": "execute_result"
    }
   ],
   "source": [
    "df['weight'].value_counts()"
   ]
  },
  {
   "cell_type": "markdown",
   "metadata": {},
   "source": [
    "Чаще всего встречается значение $90$. Это и есть мода. Её можно также посчитать с помощью метода `.mode`:"
   ]
  },
  {
   "cell_type": "code",
   "execution_count": 21,
   "metadata": {},
   "outputs": [
    {
     "data": {
      "text/plain": [
       "0    90.0\n",
       "dtype: float64"
      ]
     },
     "execution_count": 21,
     "metadata": {},
     "output_type": "execute_result"
    }
   ],
   "source": [
    "df['weight'].mode()"
   ]
  },
  {
   "cell_type": "code",
   "execution_count": 22,
   "metadata": {
    "scrolled": true
   },
   "outputs": [
    {
     "data": {
      "text/html": [
       "<div>\n",
       "<style scoped>\n",
       "    .dataframe tbody tr th:only-of-type {\n",
       "        vertical-align: middle;\n",
       "    }\n",
       "\n",
       "    .dataframe tbody tr th {\n",
       "        vertical-align: top;\n",
       "    }\n",
       "\n",
       "    .dataframe thead th {\n",
       "        text-align: right;\n",
       "    }\n",
       "</style>\n",
       "<table border=\"1\" class=\"dataframe\">\n",
       "  <thead>\n",
       "    <tr style=\"text-align: right;\">\n",
       "      <th></th>\n",
       "      <th>year</th>\n",
       "      <th>country</th>\n",
       "      <th>no</th>\n",
       "      <th>name</th>\n",
       "      <th>position</th>\n",
       "      <th>side</th>\n",
       "      <th>height</th>\n",
       "      <th>weight</th>\n",
       "      <th>birth</th>\n",
       "      <th>club</th>\n",
       "      <th>age</th>\n",
       "      <th>cohort</th>\n",
       "      <th>bmi</th>\n",
       "    </tr>\n",
       "  </thead>\n",
       "  <tbody>\n",
       "    <tr>\n",
       "      <th>0</th>\n",
       "      <td>2005.0</td>\n",
       "      <td>USA</td>\n",
       "      <td>7.0</td>\n",
       "      <td>antipov vladimir</td>\n",
       "      <td>F</td>\n",
       "      <td>L</td>\n",
       "      <td>180.0</td>\n",
       "      <td>90.0</td>\n",
       "      <td>1979-07-04</td>\n",
       "      <td>barys astana</td>\n",
       "      <td>24.142368</td>\n",
       "      <td>1980.0</td>\n",
       "      <td>26.296567</td>\n",
       "    </tr>\n",
       "    <tr>\n",
       "      <th>1</th>\n",
       "      <td>NaN</td>\n",
       "      <td>NaN</td>\n",
       "      <td>NaN</td>\n",
       "      <td>armstrong colby</td>\n",
       "      <td>NaN</td>\n",
       "      <td>NaN</td>\n",
       "      <td>NaN</td>\n",
       "      <td>NaN</td>\n",
       "      <td>1980-09-26</td>\n",
       "      <td>NaN</td>\n",
       "      <td>24.993840</td>\n",
       "      <td>NaN</td>\n",
       "      <td>NaN</td>\n",
       "    </tr>\n",
       "    <tr>\n",
       "      <th>2</th>\n",
       "      <td>NaN</td>\n",
       "      <td>NaN</td>\n",
       "      <td>NaN</td>\n",
       "      <td>brueckler bernd</td>\n",
       "      <td>NaN</td>\n",
       "      <td>NaN</td>\n",
       "      <td>NaN</td>\n",
       "      <td>NaN</td>\n",
       "      <td>NaT</td>\n",
       "      <td>NaN</td>\n",
       "      <td>25.163587</td>\n",
       "      <td>NaN</td>\n",
       "      <td>NaN</td>\n",
       "    </tr>\n",
       "    <tr>\n",
       "      <th>3</th>\n",
       "      <td>NaN</td>\n",
       "      <td>NaN</td>\n",
       "      <td>NaN</td>\n",
       "      <td>christensen mads</td>\n",
       "      <td>NaN</td>\n",
       "      <td>NaN</td>\n",
       "      <td>NaN</td>\n",
       "      <td>NaN</td>\n",
       "      <td>NaT</td>\n",
       "      <td>NaN</td>\n",
       "      <td>25.316906</td>\n",
       "      <td>NaN</td>\n",
       "      <td>NaN</td>\n",
       "    </tr>\n",
       "    <tr>\n",
       "      <th>4</th>\n",
       "      <td>NaN</td>\n",
       "      <td>NaN</td>\n",
       "      <td>NaN</td>\n",
       "      <td>fischer patrick</td>\n",
       "      <td>NaN</td>\n",
       "      <td>NaN</td>\n",
       "      <td>NaN</td>\n",
       "      <td>NaN</td>\n",
       "      <td>NaT</td>\n",
       "      <td>NaN</td>\n",
       "      <td>25.566051</td>\n",
       "      <td>NaN</td>\n",
       "      <td>NaN</td>\n",
       "    </tr>\n",
       "    <tr>\n",
       "      <th>5</th>\n",
       "      <td>NaN</td>\n",
       "      <td>NaN</td>\n",
       "      <td>NaN</td>\n",
       "      <td>gustafsson erik</td>\n",
       "      <td>NaN</td>\n",
       "      <td>NaN</td>\n",
       "      <td>NaN</td>\n",
       "      <td>NaN</td>\n",
       "      <td>NaT</td>\n",
       "      <td>NaN</td>\n",
       "      <td>26.006845</td>\n",
       "      <td>NaN</td>\n",
       "      <td>NaN</td>\n",
       "    </tr>\n",
       "    <tr>\n",
       "      <th>6</th>\n",
       "      <td>NaN</td>\n",
       "      <td>NaN</td>\n",
       "      <td>NaN</td>\n",
       "      <td>hejda jan</td>\n",
       "      <td>NaN</td>\n",
       "      <td>NaN</td>\n",
       "      <td>NaN</td>\n",
       "      <td>NaN</td>\n",
       "      <td>NaT</td>\n",
       "      <td>NaN</td>\n",
       "      <td>NaN</td>\n",
       "      <td>NaN</td>\n",
       "      <td>NaN</td>\n",
       "    </tr>\n",
       "    <tr>\n",
       "      <th>7</th>\n",
       "      <td>NaN</td>\n",
       "      <td>NaN</td>\n",
       "      <td>NaN</td>\n",
       "      <td>jensen nicklas</td>\n",
       "      <td>NaN</td>\n",
       "      <td>NaN</td>\n",
       "      <td>NaN</td>\n",
       "      <td>NaN</td>\n",
       "      <td>NaT</td>\n",
       "      <td>NaN</td>\n",
       "      <td>NaN</td>\n",
       "      <td>NaN</td>\n",
       "      <td>NaN</td>\n",
       "    </tr>\n",
       "    <tr>\n",
       "      <th>8</th>\n",
       "      <td>NaN</td>\n",
       "      <td>NaN</td>\n",
       "      <td>NaN</td>\n",
       "      <td>kharchenko sergiy</td>\n",
       "      <td>NaN</td>\n",
       "      <td>NaN</td>\n",
       "      <td>NaN</td>\n",
       "      <td>NaN</td>\n",
       "      <td>NaT</td>\n",
       "      <td>NaN</td>\n",
       "      <td>NaN</td>\n",
       "      <td>NaN</td>\n",
       "      <td>NaN</td>\n",
       "    </tr>\n",
       "    <tr>\n",
       "      <th>9</th>\n",
       "      <td>NaN</td>\n",
       "      <td>NaN</td>\n",
       "      <td>NaN</td>\n",
       "      <td>kotschnew dimitri</td>\n",
       "      <td>NaN</td>\n",
       "      <td>NaN</td>\n",
       "      <td>NaN</td>\n",
       "      <td>NaN</td>\n",
       "      <td>NaT</td>\n",
       "      <td>NaN</td>\n",
       "      <td>NaN</td>\n",
       "      <td>NaN</td>\n",
       "      <td>NaN</td>\n",
       "    </tr>\n",
       "    <tr>\n",
       "      <th>10</th>\n",
       "      <td>NaN</td>\n",
       "      <td>NaN</td>\n",
       "      <td>NaN</td>\n",
       "      <td>lind juha</td>\n",
       "      <td>NaN</td>\n",
       "      <td>NaN</td>\n",
       "      <td>NaN</td>\n",
       "      <td>NaN</td>\n",
       "      <td>NaT</td>\n",
       "      <td>NaN</td>\n",
       "      <td>NaN</td>\n",
       "      <td>NaN</td>\n",
       "      <td>NaN</td>\n",
       "    </tr>\n",
       "    <tr>\n",
       "      <th>11</th>\n",
       "      <td>NaN</td>\n",
       "      <td>NaN</td>\n",
       "      <td>NaN</td>\n",
       "      <td>mikus juraj</td>\n",
       "      <td>NaN</td>\n",
       "      <td>NaN</td>\n",
       "      <td>NaN</td>\n",
       "      <td>NaN</td>\n",
       "      <td>NaT</td>\n",
       "      <td>NaN</td>\n",
       "      <td>NaN</td>\n",
       "      <td>NaN</td>\n",
       "      <td>NaN</td>\n",
       "    </tr>\n",
       "    <tr>\n",
       "      <th>12</th>\n",
       "      <td>NaN</td>\n",
       "      <td>NaN</td>\n",
       "      <td>NaN</td>\n",
       "      <td>olvecky peter</td>\n",
       "      <td>NaN</td>\n",
       "      <td>NaN</td>\n",
       "      <td>NaN</td>\n",
       "      <td>NaN</td>\n",
       "      <td>NaT</td>\n",
       "      <td>NaN</td>\n",
       "      <td>NaN</td>\n",
       "      <td>NaN</td>\n",
       "      <td>NaN</td>\n",
       "    </tr>\n",
       "    <tr>\n",
       "      <th>13</th>\n",
       "      <td>NaN</td>\n",
       "      <td>NaN</td>\n",
       "      <td>NaN</td>\n",
       "      <td>skoula martin</td>\n",
       "      <td>NaN</td>\n",
       "      <td>NaN</td>\n",
       "      <td>NaN</td>\n",
       "      <td>NaN</td>\n",
       "      <td>NaT</td>\n",
       "      <td>NaN</td>\n",
       "      <td>NaN</td>\n",
       "      <td>NaN</td>\n",
       "      <td>NaN</td>\n",
       "    </tr>\n",
       "    <tr>\n",
       "      <th>14</th>\n",
       "      <td>NaN</td>\n",
       "      <td>NaN</td>\n",
       "      <td>NaN</td>\n",
       "      <td>vyborny david</td>\n",
       "      <td>NaN</td>\n",
       "      <td>NaN</td>\n",
       "      <td>NaN</td>\n",
       "      <td>NaN</td>\n",
       "      <td>NaT</td>\n",
       "      <td>NaN</td>\n",
       "      <td>NaN</td>\n",
       "      <td>NaN</td>\n",
       "      <td>NaN</td>\n",
       "    </tr>\n",
       "    <tr>\n",
       "      <th>15</th>\n",
       "      <td>NaN</td>\n",
       "      <td>NaN</td>\n",
       "      <td>NaN</td>\n",
       "      <td>wolf michael</td>\n",
       "      <td>NaN</td>\n",
       "      <td>NaN</td>\n",
       "      <td>NaN</td>\n",
       "      <td>NaN</td>\n",
       "      <td>NaT</td>\n",
       "      <td>NaN</td>\n",
       "      <td>NaN</td>\n",
       "      <td>NaN</td>\n",
       "      <td>NaN</td>\n",
       "    </tr>\n",
       "  </tbody>\n",
       "</table>\n",
       "</div>"
      ],
      "text/plain": [
       "      year country   no                name position side  height  weight  \\\n",
       "0   2005.0     USA  7.0   antipov vladimir         F    L   180.0    90.0   \n",
       "1      NaN     NaN  NaN     armstrong colby      NaN  NaN     NaN     NaN   \n",
       "2      NaN     NaN  NaN     brueckler bernd      NaN  NaN     NaN     NaN   \n",
       "3      NaN     NaN  NaN    christensen mads      NaN  NaN     NaN     NaN   \n",
       "4      NaN     NaN  NaN    fischer patrick       NaN  NaN     NaN     NaN   \n",
       "5      NaN     NaN  NaN     gustafsson erik      NaN  NaN     NaN     NaN   \n",
       "6      NaN     NaN  NaN           hejda jan      NaN  NaN     NaN     NaN   \n",
       "7      NaN     NaN  NaN      jensen nicklas      NaN  NaN     NaN     NaN   \n",
       "8      NaN     NaN  NaN  kharchenko sergiy       NaN  NaN     NaN     NaN   \n",
       "9      NaN     NaN  NaN   kotschnew dimitri      NaN  NaN     NaN     NaN   \n",
       "10     NaN     NaN  NaN          lind juha       NaN  NaN     NaN     NaN   \n",
       "11     NaN     NaN  NaN         mikus juraj      NaN  NaN     NaN     NaN   \n",
       "12     NaN     NaN  NaN       olvecky peter      NaN  NaN     NaN     NaN   \n",
       "13     NaN     NaN  NaN       skoula martin      NaN  NaN     NaN     NaN   \n",
       "14     NaN     NaN  NaN       vyborny david      NaN  NaN     NaN     NaN   \n",
       "15     NaN     NaN  NaN        wolf michael      NaN  NaN     NaN     NaN   \n",
       "\n",
       "        birth          club        age  cohort        bmi  \n",
       "0  1979-07-04  barys astana  24.142368  1980.0  26.296567  \n",
       "1  1980-09-26           NaN  24.993840     NaN        NaN  \n",
       "2         NaT           NaN  25.163587     NaN        NaN  \n",
       "3         NaT           NaN  25.316906     NaN        NaN  \n",
       "4         NaT           NaN  25.566051     NaN        NaN  \n",
       "5         NaT           NaN  26.006845     NaN        NaN  \n",
       "6         NaT           NaN        NaN     NaN        NaN  \n",
       "7         NaT           NaN        NaN     NaN        NaN  \n",
       "8         NaT           NaN        NaN     NaN        NaN  \n",
       "9         NaT           NaN        NaN     NaN        NaN  \n",
       "10        NaT           NaN        NaN     NaN        NaN  \n",
       "11        NaT           NaN        NaN     NaN        NaN  \n",
       "12        NaT           NaN        NaN     NaN        NaN  \n",
       "13        NaT           NaN        NaN     NaN        NaN  \n",
       "14        NaT           NaN        NaN     NaN        NaN  \n",
       "15        NaT           NaN        NaN     NaN        NaN  "
      ]
     },
     "execution_count": 22,
     "metadata": {},
     "output_type": "execute_result"
    }
   ],
   "source": [
    "df.mode()"
   ]
  },
  {
   "cell_type": "markdown",
   "metadata": {},
   "source": [
    "__Медиана выборки__ — такое значение $a$, что хотя бы половина элементов из выборки меньше, либо равна $a$, и, соответственно, хотя бы половина больше, либо равна $a$.\n",
    "\n",
    "__Пример 6__\n",
    "\n",
    "Посчитаем медиану роста хоккеистов. Для начала воспользуемся определением. В таком случае нам достаточно отсортировать значения из выборки и взять середину этого массива."
   ]
  },
  {
   "cell_type": "code",
   "execution_count": 23,
   "metadata": {},
   "outputs": [
    {
     "data": {
      "text/plain": [
       "3294"
      ]
     },
     "execution_count": 23,
     "metadata": {},
     "output_type": "execute_result"
    }
   ],
   "source": [
    "height = sorted(df['height'])\n",
    "\n",
    "len(height)"
   ]
  },
  {
   "cell_type": "code",
   "execution_count": 24,
   "metadata": {},
   "outputs": [
    {
     "data": {
      "text/plain": [
       "[165, 165, 165, 166, 166, 168, 168, 170, 170, 170, 170, 170, 170, 170, 170]"
      ]
     },
     "execution_count": 24,
     "metadata": {},
     "output_type": "execute_result"
    }
   ],
   "source": [
    "height[:15]"
   ]
  },
  {
   "cell_type": "markdown",
   "metadata": {},
   "source": [
    "Выведем несколько значений вокруг середины этого массива."
   ]
  },
  {
   "cell_type": "code",
   "execution_count": 25,
   "metadata": {},
   "outputs": [
    {
     "data": {
      "text/plain": [
       "[184, 184, 184, 184, 184, 184, 184, 184, 184, 184]"
      ]
     },
     "execution_count": 25,
     "metadata": {},
     "output_type": "execute_result"
    }
   ],
   "source": [
    "length = len(height)\n",
    "\n",
    "height[length // 2 - 5 : length // 2 + 5]"
   ]
  },
  {
   "cell_type": "markdown",
   "metadata": {},
   "source": [
    "В нашем случае все эти значения равны, поэтому медиана равна $184$."
   ]
  },
  {
   "cell_type": "code",
   "execution_count": 26,
   "metadata": {},
   "outputs": [
    {
     "data": {
      "text/plain": [
       "184.0"
      ]
     },
     "execution_count": 26,
     "metadata": {},
     "output_type": "execute_result"
    }
   ],
   "source": [
    "df['height'].median()"
   ]
  },
  {
   "cell_type": "markdown",
   "metadata": {},
   "source": [
    "В случаях, когда число элементов в выборке нечётно, медианой является значение, которое стоит ровно посередине отсортированного массива. Если же в массиве чётное число значений, ровную середину посчитать невозможно, поэтому медианой может служить любое значение между крайним правым значением левой половины и крайним левым значением правой половины."
   ]
  },
  {
   "cell_type": "code",
   "execution_count": 29,
   "metadata": {
    "scrolled": true
   },
   "outputs": [
    {
     "name": "stdout",
     "output_type": "stream",
     "text": [
      "Help on function quantile in module numpy:\n",
      "\n",
      "quantile(a, q, axis=None, out=None, overwrite_input=False, interpolation='linear', keepdims=False)\n",
      "    Compute the q-th quantile of the data along the specified axis.\n",
      "    ..versionadded:: 1.15.0\n",
      "    \n",
      "    Parameters\n",
      "    ----------\n",
      "    a : array_like\n",
      "        Input array or object that can be converted to an array.\n",
      "    q : array_like of float\n",
      "        Quantile or sequence of quantiles to compute, which must be between\n",
      "        0 and 1 inclusive.\n",
      "    axis : {int, tuple of int, None}, optional\n",
      "        Axis or axes along which the quantiles are computed. The\n",
      "        default is to compute the quantile(s) along a flattened\n",
      "        version of the array.\n",
      "    out : ndarray, optional\n",
      "        Alternative output array in which to place the result. It must\n",
      "        have the same shape and buffer length as the expected output,\n",
      "        but the type (of the output) will be cast if necessary.\n",
      "    overwrite_input : bool, optional\n",
      "        If True, then allow the input array `a` to be modified by intermediate\n",
      "        calculations, to save memory. In this case, the contents of the input\n",
      "        `a` after this function completes is undefined.\n",
      "    interpolation : {'linear', 'lower', 'higher', 'midpoint', 'nearest'}\n",
      "        This optional parameter specifies the interpolation method to\n",
      "        use when the desired quantile lies between two data points\n",
      "        ``i < j``:\n",
      "    \n",
      "            * linear: ``i + (j - i) * fraction``, where ``fraction``\n",
      "              is the fractional part of the index surrounded by ``i``\n",
      "              and ``j``.\n",
      "            * lower: ``i``.\n",
      "            * higher: ``j``.\n",
      "            * nearest: ``i`` or ``j``, whichever is nearest.\n",
      "            * midpoint: ``(i + j) / 2``.\n",
      "    keepdims : bool, optional\n",
      "        If this is set to True, the axes which are reduced are left in\n",
      "        the result as dimensions with size one. With this option, the\n",
      "        result will broadcast correctly against the original array `a`.\n",
      "    \n",
      "    Returns\n",
      "    -------\n",
      "    quantile : scalar or ndarray\n",
      "        If `q` is a single quantile and `axis=None`, then the result\n",
      "        is a scalar. If multiple quantiles are given, first axis of\n",
      "        the result corresponds to the quantiles. The other axes are\n",
      "        the axes that remain after the reduction of `a`. If the input\n",
      "        contains integers or floats smaller than ``float64``, the output\n",
      "        data-type is ``float64``. Otherwise, the output data-type is the\n",
      "        same as that of the input. If `out` is specified, that array is\n",
      "        returned instead.\n",
      "    \n",
      "    See Also\n",
      "    --------\n",
      "    mean\n",
      "    percentile : equivalent to quantile, but with q in the range [0, 100].\n",
      "    median : equivalent to ``quantile(..., 0.5)``\n",
      "    nanquantile\n",
      "    \n",
      "    Notes\n",
      "    -----\n",
      "    Given a vector ``V`` of length ``N``, the q-th quantile of\n",
      "    ``V`` is the value ``q`` of the way from the minimum to the\n",
      "    maximum in a sorted copy of ``V``. The values and distances of\n",
      "    the two nearest neighbors as well as the `interpolation` parameter\n",
      "    will determine the quantile if the normalized ranking does not\n",
      "    match the location of ``q`` exactly. This function is the same as\n",
      "    the median if ``q=0.5``, the same as the minimum if ``q=0.0`` and the\n",
      "    same as the maximum if ``q=1.0``.\n",
      "    \n",
      "    Examples\n",
      "    --------\n",
      "    >>> a = np.array([[10, 7, 4], [3, 2, 1]])\n",
      "    >>> a\n",
      "    array([[10,  7,  4],\n",
      "           [ 3,  2,  1]])\n",
      "    >>> np.quantile(a, 0.5)\n",
      "    3.5\n",
      "    >>> np.quantile(a, 0.5, axis=0)\n",
      "    array([[ 6.5,  4.5,  2.5]])\n",
      "    >>> np.quantile(a, 0.5, axis=1)\n",
      "    array([ 7.,  2.])\n",
      "    >>> np.quantile(a, 0.5, axis=1, keepdims=True)\n",
      "    array([[ 7.],\n",
      "           [ 2.]])\n",
      "    >>> m = np.quantile(a, 0.5, axis=0)\n",
      "    >>> out = np.zeros_like(m)\n",
      "    >>> np.quantile(a, 0.5, axis=0, out=out)\n",
      "    array([[ 6.5,  4.5,  2.5]])\n",
      "    >>> m\n",
      "    array([[ 6.5,  4.5,  2.5]])\n",
      "    >>> b = a.copy()\n",
      "    >>> np.quantile(b, 0.5, axis=1, overwrite_input=True)\n",
      "    array([ 7.,  2.])\n",
      "    >>> assert not np.all(a == b)\n",
      "\n"
     ]
    }
   ],
   "source": [
    "help(np.quantile)"
   ]
  },
  {
   "cell_type": "markdown",
   "metadata": {},
   "source": [
    "Понятие __квантиля__ обобщает понятие медианы. Если $\\alpha \\in (0, 1)$, то __квантилем порядка $\\alpha$ случайной величины $X$__ называется такое значение $X_\\alpha$, что\n",
    "\n",
    "$$P(X \\leq X_\\alpha) \\geq \\alpha, \\: P(X \\geq X_\\alpha) \\geq 1 - \\alpha.$$\n",
    "\n",
    "В случае выборки это означает, что хотя бы доля $\\alpha$ от всех значений выборки оказываются меньше, либо равны $X_\\alpha$ и, наоборот, хотя бы доля $1 - \\alpha$ от значений больше, либо равны $X_\\alpha$.\n",
    "\n",
    "Использование квантилей позволяет в некотором смысле «обратить» функцию вероятности.\n",
    "\n",
    "Прямая задача выглядит следующим образом: имеется случайная величина $X$ и пороговое значение $t$. Требуется найти вероятность того, что случайная величина $X$ не превосходит значения $t$.\n",
    "\n",
    "Часто в задачах математической статистики требуется решить обратную задачу: имеется случайная величина $X$ и значение вероятности $\\alpha \\in (0, 1)$. Требуется найти пороговое значение $t$, такое, что $P(X \\leq t) = \\alpha$.\n",
    "Это и есть квантиль порядка $\\alpha$.\n",
    "\n",
    "В частности, медиана является квантилем порядка $0.5$. Кроме того, часто используют\n",
    "\n",
    "* __первый квартиль__ — квантиль порядка $0.25$ (т.е. значение, которое не превышают $25 \\%$ значений из выборки),\n",
    "* __второй квартиль__ — то же, что и медиана,\n",
    "* __третий квартиль__ — квантиль порядка $0.75$.\n",
    "\n",
    "Квантили можно посчитать с помощью метода `.quantile`:\n",
    "\n",
    "__Пример 7__\n",
    "\n",
    "Посчитаем первый и третий квартили значений роста хоккеистов. Вычисления аналогичны случаю вычисления медианы, однако нам нужно делить массив не в пропорции $1 : 1$, а в пропорции $\\alpha : (1 - \\alpha)$. Например, первый квартиль:"
   ]
  },
  {
   "cell_type": "code",
   "execution_count": 30,
   "metadata": {},
   "outputs": [
    {
     "data": {
      "text/plain": [
       "[180, 180, 180, 180, 180, 180, 180, 180, 180, 180]"
      ]
     },
     "execution_count": 30,
     "metadata": {},
     "output_type": "execute_result"
    }
   ],
   "source": [
    "height[length // 4 - 5 : length // 4 + 5]"
   ]
  },
  {
   "cell_type": "code",
   "execution_count": 31,
   "metadata": {},
   "outputs": [
    {
     "data": {
      "text/plain": [
       "180.0"
      ]
     },
     "execution_count": 31,
     "metadata": {},
     "output_type": "execute_result"
    }
   ],
   "source": [
    "df['height'].quantile(0.25)"
   ]
  },
  {
   "cell_type": "markdown",
   "metadata": {},
   "source": [
    "Третий квартиль:"
   ]
  },
  {
   "cell_type": "code",
   "execution_count": 32,
   "metadata": {},
   "outputs": [
    {
     "data": {
      "text/plain": [
       "[188, 188, 188, 188, 188, 188, 188, 188, 188, 188]"
      ]
     },
     "execution_count": 32,
     "metadata": {},
     "output_type": "execute_result"
    }
   ],
   "source": [
    "height[length * 3 // 4 - 5 : length * 3// 4 + 5]"
   ]
  },
  {
   "cell_type": "code",
   "execution_count": 33,
   "metadata": {},
   "outputs": [
    {
     "data": {
      "text/plain": [
       "188.0"
      ]
     },
     "execution_count": 33,
     "metadata": {},
     "output_type": "execute_result"
    }
   ],
   "source": [
    "df['height'].quantile(0.75)"
   ]
  },
  {
   "cell_type": "markdown",
   "metadata": {},
   "source": [
    "В этот метод можно подать список значений, тогда посчитаются различные квантили:"
   ]
  },
  {
   "cell_type": "code",
   "execution_count": 34,
   "metadata": {},
   "outputs": [
    {
     "data": {
      "text/plain": [
       "0.25    180.0\n",
       "0.50    184.0\n",
       "0.75    188.0\n",
       "Name: height, dtype: float64"
      ]
     },
     "execution_count": 34,
     "metadata": {},
     "output_type": "execute_result"
    }
   ],
   "source": [
    "df['height'].quantile([0.25, 0.5, 0.75])"
   ]
  },
  {
   "cell_type": "markdown",
   "metadata": {},
   "source": [
    "__Интерквартильный размах__ — это отрезок между первым и третьим квартилями. Это отрезок, в который попадают $50 \\%$ значений выборки.\n",
    "\n",
    "Интерквартильный размах используется для измерения разброса значений выборки вокруг среднего. Иногда его использование оказывается более предпочтительным, чем использование среднего квадратического отклонения, поскольку не учитывает выбросы в данных.\n",
    "\n",
    "Например, в наших данных интерквартильный размах — это отрезок от $180$ до $188$. _Интерквартильное расстояние_ в этом случае равно $8$.\n",
    "\n",
    "В зависимости от задачи и удобства могут также встречаться __децили__ и __перцентили__.\n",
    "\n",
    "__Децили__ — то же, что и квартили, но делим мы не на $4$ части, а на $10$. Например, медиана будет _пятым децилем_.\n",
    "\n",
    "__Перцентили__ — это просто другой способ задать квантиль. Здесь мы используем не долю $\\alpha \\in (0, 1)$, а процент. Например, третий квартиль будет $75$-перцентилем."
   ]
  },
  {
   "cell_type": "code",
   "execution_count": 35,
   "metadata": {},
   "outputs": [],
   "source": [
    "list_ = [1] * 1000 + [10000]"
   ]
  },
  {
   "cell_type": "code",
   "execution_count": 38,
   "metadata": {},
   "outputs": [
    {
     "data": {
      "text/plain": [
       "10.989010989010989"
      ]
     },
     "execution_count": 38,
     "metadata": {},
     "output_type": "execute_result"
    }
   ],
   "source": [
    "np.mean(list_)"
   ]
  },
  {
   "cell_type": "code",
   "execution_count": 37,
   "metadata": {},
   "outputs": [
    {
     "data": {
      "text/plain": [
       "316.03816364344493"
      ]
     },
     "execution_count": 37,
     "metadata": {},
     "output_type": "execute_result"
    }
   ],
   "source": [
    "np.std(list_, ddof=1)"
   ]
  },
  {
   "cell_type": "code",
   "execution_count": 39,
   "metadata": {},
   "outputs": [
    {
     "data": {
      "text/plain": [
       "array([1., 1.])"
      ]
     },
     "execution_count": 39,
     "metadata": {},
     "output_type": "execute_result"
    }
   ],
   "source": [
    "np.quantile(list_, [0.25, 0.75])"
   ]
  },
  {
   "cell_type": "markdown",
   "metadata": {
    "colab_type": "text",
    "id": "PNmx54fYNKyY"
   },
   "source": [
    "### Графическое представление данных\n",
    "\n",
    "Для визуализации распределения значений выборки часто используется гистограмма. Как строится гистограмма?\n",
    "\n",
    "1. По оси $x$ откладываются всевозможные значения из выборки. \n",
    "2. Вся ось разбивается на какое-то заданное число одинаковых отрезков.\n",
    "3. Для каждого отрезка вычисляется число значений выборки, которые лежат в этом отрезке, и это число откладывается по оси $y$.\n",
    "\n",
    "__Пример 8__\n",
    "\n",
    "Построим гистограмму значений роста. Для этого можно использовать метод `.hist`. В качестве аргумента `bins` сюда подаётся то число одинаковых отрезков, на которое мы разбиваем ось $x$."
   ]
  },
  {
   "cell_type": "code",
   "execution_count": 46,
   "metadata": {},
   "outputs": [
    {
     "data": {
      "text/plain": [
       "(array([  7.,  56., 206., 691., 860., 871., 415., 150.,  24.,  14.]),\n",
       " array([165., 169., 173., 177., 181., 185., 189., 193., 197., 201., 205.]),\n",
       " <a list of 10 Patch objects>)"
      ]
     },
     "execution_count": 46,
     "metadata": {},
     "output_type": "execute_result"
    },
    {
     "data": {
      "image/png": "[encoded data removed]",
      "text/plain": [
       "<Figure size 432x288 with 1 Axes>"
      ]
     },
     "metadata": {
      "needs_background": "light"
     },
     "output_type": "display_data"
    }
   ],
   "source": [
    "plt.hist(df['height'])"
   ]
  },
  {
   "cell_type": "code",
   "execution_count": 47,
   "metadata": {},
   "outputs": [
    {
     "data": {
      "text/plain": [
       "<matplotlib.axes._subplots.AxesSubplot at 0x7fbf48194f60>"
      ]
     },
     "execution_count": 47,
     "metadata": {},
     "output_type": "execute_result"
    },
    {
     "data": {
      "image/png": "[encoded data removed]",
      "text/plain": [
       "<Figure size 432x288 with 1 Axes>"
      ]
     },
     "metadata": {
      "needs_background": "light"
     },
     "output_type": "display_data"
    }
   ],
   "source": [
    "df['height'].hist()"
   ]
  },
  {
   "cell_type": "markdown",
   "metadata": {
    "colab_type": "text",
    "collapsed": true,
    "id": "KwJ_RM31NKyo"
   },
   "source": [
    "Построим гистограмму ещё раз, указав в качестве аргумента `bins` число $20$, чтобы получить более детальную картину:"
   ]
  },
  {
   "cell_type": "code",
   "execution_count": 43,
   "metadata": {},
   "outputs": [
    {
     "data": {
      "text/plain": [
       "<matplotlib.axes._subplots.AxesSubplot at 0x7fbf47ff8c50>"
      ]
     },
     "execution_count": 43,
     "metadata": {},
     "output_type": "execute_result"
    },
    {
     "data": {
      "image/png": "[encoded data removed]",
      "text/plain": [
       "<Figure size 432x288 with 1 Axes>"
      ]
     },
     "metadata": {
      "needs_background": "light"
     },
     "output_type": "display_data"
    }
   ],
   "source": [
    "df['height'].hist(bins=20)"
   ]
  },
  {
   "cell_type": "code",
   "execution_count": 44,
   "metadata": {},
   "outputs": [
    {
     "data": {
      "text/plain": [
       "<matplotlib.axes._subplots.AxesSubplot at 0x7fbf486f89b0>"
      ]
     },
     "execution_count": 44,
     "metadata": {},
     "output_type": "execute_result"
    },
    {
     "data": {
      "image/png": "[encoded data removed]",
      "text/plain": [
       "<Figure size 432x288 with 1 Axes>"
      ]
     },
     "metadata": {
      "needs_background": "light"
     },
     "output_type": "display_data"
    }
   ],
   "source": [
    "df['height'].hist(bins=50)"
   ]
  },
  {
   "cell_type": "markdown",
   "metadata": {},
   "source": [
    "Другой способ визуализировать одномерные данные — __boxplot__ или __ящик с усами__. В самом ящике отмечены квартили $Q1$, $Q2$ (медиана), $Q3$. «Усы» здесь — границы отрезка\n",
    "$$\\left[ Q1 - 1.5 \\times IQR, \\: Q3 + 1.5 \\times IQR \\right],$$\n",
    "где $IQR$ — интерквартильное расстояние.\n",
    "\n",
    "__Пример 9__\n",
    "\n",
    "Построим `boxplot` роста хоккеистов."
   ]
  },
  {
   "cell_type": "code",
   "execution_count": 48,
   "metadata": {},
   "outputs": [
    {
     "data": {
      "text/plain": [
       "<matplotlib.axes._subplots.AxesSubplot at 0x7fbf481655f8>"
      ]
     },
     "execution_count": 48,
     "metadata": {},
     "output_type": "execute_result"
    },
    {
     "data": {
      "image/png": "[encoded data removed]",
      "text/plain": [
       "<Figure size 432x288 with 1 Axes>"
      ]
     },
     "metadata": {
      "needs_background": "light"
     },
     "output_type": "display_data"
    }
   ],
   "source": [
    "df[['height']].boxplot()"
   ]
  },
  {
   "cell_type": "markdown",
   "metadata": {},
   "source": [
    "Всё, что выходит за границы этого отрезка, считается выбросами (отмечены кружками). Посчитаем, сколько значений роста оказалось за пределами «усов»."
   ]
  },
  {
   "cell_type": "code",
   "execution_count": 49,
   "metadata": {},
   "outputs": [
    {
     "data": {
      "text/plain": [
       "(168.0, 200.0)"
      ]
     },
     "execution_count": 49,
     "metadata": {},
     "output_type": "execute_result"
    }
   ],
   "source": [
    "q1 = df['height'].quantile(0.25)\n",
    "q3 = df['height'].quantile(0.75)\n",
    "\n",
    "iqr = q3 - q1\n",
    "\n",
    "boxplot_range = (q1 - 1.5 * iqr, q3 + 1.5 * iqr)\n",
    "boxplot_range"
   ]
  },
  {
   "cell_type": "code",
   "execution_count": 50,
   "metadata": {},
   "outputs": [
    {
     "data": {
      "text/plain": [
       "19"
      ]
     },
     "execution_count": 50,
     "metadata": {},
     "output_type": "execute_result"
    }
   ],
   "source": [
    "outliers = df.loc[(df['height'] < boxplot_range[0]) | (df['height'] > boxplot_range[1])]\n",
    "\n",
    "outliers.shape[0]"
   ]
  },
  {
   "cell_type": "code",
   "execution_count": 51,
   "metadata": {},
   "outputs": [
    {
     "data": {
      "text/html": [
       "<div>\n",
       "<style scoped>\n",
       "    .dataframe tbody tr th:only-of-type {\n",
       "        vertical-align: middle;\n",
       "    }\n",
       "\n",
       "    .dataframe tbody tr th {\n",
       "        vertical-align: top;\n",
       "    }\n",
       "\n",
       "    .dataframe thead th {\n",
       "        text-align: right;\n",
       "    }\n",
       "</style>\n",
       "<table border=\"1\" class=\"dataframe\">\n",
       "  <thead>\n",
       "    <tr style=\"text-align: right;\">\n",
       "      <th></th>\n",
       "      <th>year</th>\n",
       "      <th>country</th>\n",
       "      <th>no</th>\n",
       "      <th>name</th>\n",
       "      <th>position</th>\n",
       "      <th>side</th>\n",
       "      <th>height</th>\n",
       "      <th>weight</th>\n",
       "      <th>birth</th>\n",
       "      <th>club</th>\n",
       "      <th>age</th>\n",
       "      <th>cohort</th>\n",
       "      <th>bmi</th>\n",
       "    </tr>\n",
       "  </thead>\n",
       "  <tbody>\n",
       "    <tr>\n",
       "      <th>285</th>\n",
       "      <td>2001</td>\n",
       "      <td>SVK</td>\n",
       "      <td>3</td>\n",
       "      <td>chara zdeno</td>\n",
       "      <td>D</td>\n",
       "      <td>L</td>\n",
       "      <td>202</td>\n",
       "      <td>105.0</td>\n",
       "      <td>1977-03-18</td>\n",
       "      <td>new york islanders</td>\n",
       "      <td>24.120465</td>\n",
       "      <td>1977</td>\n",
       "      <td>25.732771</td>\n",
       "    </tr>\n",
       "    <tr>\n",
       "      <th>356</th>\n",
       "      <td>2001</td>\n",
       "      <td>USA</td>\n",
       "      <td>25</td>\n",
       "      <td>gill hal</td>\n",
       "      <td>D</td>\n",
       "      <td>L</td>\n",
       "      <td>202</td>\n",
       "      <td>109.0</td>\n",
       "      <td>1975-04-06</td>\n",
       "      <td>boston bruins</td>\n",
       "      <td>26.069815</td>\n",
       "      <td>1975</td>\n",
       "      <td>26.713067</td>\n",
       "    </tr>\n",
       "    <tr>\n",
       "      <th>406</th>\n",
       "      <td>2002</td>\n",
       "      <td>AUT</td>\n",
       "      <td>32</td>\n",
       "      <td>lakos andre</td>\n",
       "      <td>D</td>\n",
       "      <td>L</td>\n",
       "      <td>202</td>\n",
       "      <td>104.0</td>\n",
       "      <td>1979-07-29</td>\n",
       "      <td>utah grizzlies</td>\n",
       "      <td>22.757016</td>\n",
       "      <td>1979</td>\n",
       "      <td>25.487697</td>\n",
       "    </tr>\n",
       "    <tr>\n",
       "      <th>1175</th>\n",
       "      <td>2004</td>\n",
       "      <td>AUT</td>\n",
       "      <td>32</td>\n",
       "      <td>lakos andre</td>\n",
       "      <td>D</td>\n",
       "      <td>R</td>\n",
       "      <td>203</td>\n",
       "      <td>103.0</td>\n",
       "      <td>1979-07-29</td>\n",
       "      <td>vienna capitals</td>\n",
       "      <td>24.758385</td>\n",
       "      <td>1979</td>\n",
       "      <td>24.994540</td>\n",
       "    </tr>\n",
       "    <tr>\n",
       "      <th>1443</th>\n",
       "      <td>2004</td>\n",
       "      <td>SVK</td>\n",
       "      <td>3</td>\n",
       "      <td>chara zdeno</td>\n",
       "      <td>D</td>\n",
       "      <td>L</td>\n",
       "      <td>205</td>\n",
       "      <td>117.0</td>\n",
       "      <td>1977-03-18</td>\n",
       "      <td>ottawa senators</td>\n",
       "      <td>27.121150</td>\n",
       "      <td>1977</td>\n",
       "      <td>27.840571</td>\n",
       "    </tr>\n",
       "    <tr>\n",
       "      <th>1514</th>\n",
       "      <td>2004</td>\n",
       "      <td>USA</td>\n",
       "      <td>26</td>\n",
       "      <td>gill hal</td>\n",
       "      <td>D</td>\n",
       "      <td>L</td>\n",
       "      <td>202</td>\n",
       "      <td>100.0</td>\n",
       "      <td>1975-04-06</td>\n",
       "      <td>boston bruins</td>\n",
       "      <td>29.070500</td>\n",
       "      <td>1975</td>\n",
       "      <td>24.507401</td>\n",
       "    </tr>\n",
       "    <tr>\n",
       "      <th>1565</th>\n",
       "      <td>2005</td>\n",
       "      <td>AUT</td>\n",
       "      <td>32</td>\n",
       "      <td>lakos andre</td>\n",
       "      <td>D</td>\n",
       "      <td>R</td>\n",
       "      <td>203</td>\n",
       "      <td>103.0</td>\n",
       "      <td>1979-07-29</td>\n",
       "      <td>syracuse crunch</td>\n",
       "      <td>25.757700</td>\n",
       "      <td>1979</td>\n",
       "      <td>24.994540</td>\n",
       "    </tr>\n",
       "    <tr>\n",
       "      <th>1836</th>\n",
       "      <td>2005</td>\n",
       "      <td>SVK</td>\n",
       "      <td>3</td>\n",
       "      <td>chara zdeno</td>\n",
       "      <td>D</td>\n",
       "      <td>L</td>\n",
       "      <td>205</td>\n",
       "      <td>117.0</td>\n",
       "      <td>1977-03-18</td>\n",
       "      <td>farjestad karlstad</td>\n",
       "      <td>28.120465</td>\n",
       "      <td>1977</td>\n",
       "      <td>27.840571</td>\n",
       "    </tr>\n",
       "    <tr>\n",
       "      <th>1911</th>\n",
       "      <td>2005</td>\n",
       "      <td>USA</td>\n",
       "      <td>25</td>\n",
       "      <td>gill hal</td>\n",
       "      <td>D</td>\n",
       "      <td>L</td>\n",
       "      <td>201</td>\n",
       "      <td>108.0</td>\n",
       "      <td>1975-04-06</td>\n",
       "      <td>lukko rauma</td>\n",
       "      <td>30.069815</td>\n",
       "      <td>1975</td>\n",
       "      <td>26.732012</td>\n",
       "    </tr>\n",
       "    <tr>\n",
       "      <th>2088</th>\n",
       "      <td>2006</td>\n",
       "      <td>ITA</td>\n",
       "      <td>11</td>\n",
       "      <td>fontanive nicola</td>\n",
       "      <td>F</td>\n",
       "      <td>L</td>\n",
       "      <td>165</td>\n",
       "      <td>71.0</td>\n",
       "      <td>1985-10-25</td>\n",
       "      <td>hc alleghe</td>\n",
       "      <td>20.514716</td>\n",
       "      <td>1985</td>\n",
       "      <td>26.078972</td>\n",
       "    </tr>\n",
       "    <tr>\n",
       "      <th>2090</th>\n",
       "      <td>2006</td>\n",
       "      <td>ITA</td>\n",
       "      <td>15</td>\n",
       "      <td>felicetti luca</td>\n",
       "      <td>F</td>\n",
       "      <td>L</td>\n",
       "      <td>166</td>\n",
       "      <td>84.0</td>\n",
       "      <td>1981-08-17</td>\n",
       "      <td>hc fassa</td>\n",
       "      <td>24.703628</td>\n",
       "      <td>1981</td>\n",
       "      <td>30.483379</td>\n",
       "    </tr>\n",
       "    <tr>\n",
       "      <th>2540</th>\n",
       "      <td>2007</td>\n",
       "      <td>ITA</td>\n",
       "      <td>39</td>\n",
       "      <td>pittis jonathan</td>\n",
       "      <td>F</td>\n",
       "      <td>L</td>\n",
       "      <td>165</td>\n",
       "      <td>73.0</td>\n",
       "      <td>1982-01-25</td>\n",
       "      <td>asiago hockey as</td>\n",
       "      <td>25.262149</td>\n",
       "      <td>1982</td>\n",
       "      <td>26.813590</td>\n",
       "    </tr>\n",
       "    <tr>\n",
       "      <th>2541</th>\n",
       "      <td>2007</td>\n",
       "      <td>ITA</td>\n",
       "      <td>7</td>\n",
       "      <td>lefebvre patrice</td>\n",
       "      <td>F</td>\n",
       "      <td>L</td>\n",
       "      <td>165</td>\n",
       "      <td>70.0</td>\n",
       "      <td>1967-06-28</td>\n",
       "      <td>lausanne hc</td>\n",
       "      <td>39.841205</td>\n",
       "      <td>1967</td>\n",
       "      <td>25.711662</td>\n",
       "    </tr>\n",
       "    <tr>\n",
       "      <th>3841</th>\n",
       "      <td>2010</td>\n",
       "      <td>SVK</td>\n",
       "      <td>56</td>\n",
       "      <td>mihalik vladimir</td>\n",
       "      <td>D</td>\n",
       "      <td>L</td>\n",
       "      <td>202</td>\n",
       "      <td>110.0</td>\n",
       "      <td>1987-01-29</td>\n",
       "      <td>norfolk admirals</td>\n",
       "      <td>23.252567</td>\n",
       "      <td>1987</td>\n",
       "      <td>26.958141</td>\n",
       "    </tr>\n",
       "    <tr>\n",
       "      <th>4523</th>\n",
       "      <td>2012</td>\n",
       "      <td>ITA</td>\n",
       "      <td>88</td>\n",
       "      <td>rocco vincent</td>\n",
       "      <td>F</td>\n",
       "      <td>L</td>\n",
       "      <td>166</td>\n",
       "      <td>74.0</td>\n",
       "      <td>1987-06-26</td>\n",
       "      <td>alleghe hockey</td>\n",
       "      <td>24.848734</td>\n",
       "      <td>1987</td>\n",
       "      <td>26.854406</td>\n",
       "    </tr>\n",
       "    <tr>\n",
       "      <th>4635</th>\n",
       "      <td>2012</td>\n",
       "      <td>SVK</td>\n",
       "      <td>78</td>\n",
       "      <td>kudroc kristian</td>\n",
       "      <td>D</td>\n",
       "      <td>R</td>\n",
       "      <td>201</td>\n",
       "      <td>102.0</td>\n",
       "      <td>1981-05-21</td>\n",
       "      <td>sibir novosibirsk</td>\n",
       "      <td>30.945927</td>\n",
       "      <td>1981</td>\n",
       "      <td>25.246900</td>\n",
       "    </tr>\n",
       "    <tr>\n",
       "      <th>4860</th>\n",
       "      <td>2013</td>\n",
       "      <td>FIN</td>\n",
       "      <td>12</td>\n",
       "      <td>anttila marko</td>\n",
       "      <td>F</td>\n",
       "      <td>R</td>\n",
       "      <td>203</td>\n",
       "      <td>105.0</td>\n",
       "      <td>1985-05-27</td>\n",
       "      <td>tps turku</td>\n",
       "      <td>27.928816</td>\n",
       "      <td>1985</td>\n",
       "      <td>25.479871</td>\n",
       "    </tr>\n",
       "    <tr>\n",
       "      <th>5156</th>\n",
       "      <td>2014</td>\n",
       "      <td>CAN</td>\n",
       "      <td>57</td>\n",
       "      <td>myers tyler</td>\n",
       "      <td>D</td>\n",
       "      <td>R</td>\n",
       "      <td>203</td>\n",
       "      <td>103.0</td>\n",
       "      <td>1990-02-01</td>\n",
       "      <td>buffalo sabres</td>\n",
       "      <td>24.243669</td>\n",
       "      <td>1990</td>\n",
       "      <td>24.994540</td>\n",
       "    </tr>\n",
       "    <tr>\n",
       "      <th>5424</th>\n",
       "      <td>2014</td>\n",
       "      <td>SVK</td>\n",
       "      <td>16</td>\n",
       "      <td>valach juraj</td>\n",
       "      <td>D</td>\n",
       "      <td>R</td>\n",
       "      <td>202</td>\n",
       "      <td>103.0</td>\n",
       "      <td>1989-02-01</td>\n",
       "      <td>slavia prague</td>\n",
       "      <td>25.242984</td>\n",
       "      <td>1989</td>\n",
       "      <td>25.242623</td>\n",
       "    </tr>\n",
       "  </tbody>\n",
       "</table>\n",
       "</div>"
      ],
      "text/plain": [
       "      year country  no              name position side  height  weight  \\\n",
       "285   2001     SVK   3      chara zdeno         D    L     202   105.0   \n",
       "356   2001     USA  25         gill hal         D    L     202   109.0   \n",
       "406   2002     AUT  32      lakos andre         D    L     202   104.0   \n",
       "1175  2004     AUT  32       lakos andre        D    R     203   103.0   \n",
       "1443  2004     SVK   3       chara zdeno        D    L     205   117.0   \n",
       "1514  2004     USA  26          gill hal        D    L     202   100.0   \n",
       "1565  2005     AUT  32       lakos andre        D    R     203   103.0   \n",
       "1836  2005     SVK   3       chara zdeno        D    L     205   117.0   \n",
       "1911  2005     USA  25          gill hal        D    L     201   108.0   \n",
       "2088  2006     ITA  11  fontanive nicola        F    L     165    71.0   \n",
       "2090  2006     ITA  15    felicetti luca        F    L     166    84.0   \n",
       "2540  2007     ITA  39   pittis jonathan        F    L     165    73.0   \n",
       "2541  2007     ITA   7  lefebvre patrice        F    L     165    70.0   \n",
       "3841  2010     SVK  56  mihalik vladimir        D    L     202   110.0   \n",
       "4523  2012     ITA  88     rocco vincent        F    L     166    74.0   \n",
       "4635  2012     SVK  78   kudroc kristian        D    R     201   102.0   \n",
       "4860  2013     FIN  12     anttila marko        F    R     203   105.0   \n",
       "5156  2014     CAN  57       myers tyler        D    R     203   103.0   \n",
       "5424  2014     SVK  16      valach juraj        D    R     202   103.0   \n",
       "\n",
       "          birth                 club        age  cohort        bmi  \n",
       "285  1977-03-18  new york islanders   24.120465    1977  25.732771  \n",
       "356  1975-04-06       boston bruins   26.069815    1975  26.713067  \n",
       "406  1979-07-29      utah grizzlies   22.757016    1979  25.487697  \n",
       "1175 1979-07-29      vienna capitals  24.758385    1979  24.994540  \n",
       "1443 1977-03-18      ottawa senators  27.121150    1977  27.840571  \n",
       "1514 1975-04-06        boston bruins  29.070500    1975  24.507401  \n",
       "1565 1979-07-29      syracuse crunch  25.757700    1979  24.994540  \n",
       "1836 1977-03-18   farjestad karlstad  28.120465    1977  27.840571  \n",
       "1911 1975-04-06          lukko rauma  30.069815    1975  26.732012  \n",
       "2088 1985-10-25           hc alleghe  20.514716    1985  26.078972  \n",
       "2090 1981-08-17             hc fassa  24.703628    1981  30.483379  \n",
       "2540 1982-01-25     asiago hockey as  25.262149    1982  26.813590  \n",
       "2541 1967-06-28          lausanne hc  39.841205    1967  25.711662  \n",
       "3841 1987-01-29     norfolk admirals  23.252567    1987  26.958141  \n",
       "4523 1987-06-26       alleghe hockey  24.848734    1987  26.854406  \n",
       "4635 1981-05-21    sibir novosibirsk  30.945927    1981  25.246900  \n",
       "4860 1985-05-27            tps turku  27.928816    1985  25.479871  \n",
       "5156 1990-02-01       buffalo sabres  24.243669    1990  24.994540  \n",
       "5424 1989-02-01        slavia prague  25.242984    1989  25.242623  "
      ]
     },
     "execution_count": 51,
     "metadata": {},
     "output_type": "execute_result"
    }
   ],
   "source": [
    "outliers"
   ]
  },
  {
   "cell_type": "markdown",
   "metadata": {},
   "source": [
    "Доля выбросов:"
   ]
  },
  {
   "cell_type": "code",
   "execution_count": 52,
   "metadata": {},
   "outputs": [
    {
     "data": {
      "text/plain": [
       "0.005768063145112325"
      ]
     },
     "execution_count": 52,
     "metadata": {},
     "output_type": "execute_result"
    }
   ],
   "source": [
    "outliers.shape[0] / df.shape[0]"
   ]
  },
  {
   "cell_type": "markdown",
   "metadata": {},
   "source": [
    "### Упражнения"
   ]
  },
  {
   "cell_type": "markdown",
   "metadata": {},
   "source": [
    "__Задача 1__\n",
    "\n",
    "Даны значения зарплат из выборки выпускников: \n",
    "```\n",
    "100, 80, 75, 77, 89, 33, 45, 25, 65, 17, 30, 24, 57, 55, 70, 75, 65, 84, 90, 150\n",
    "```\n",
    "Без использования статистических функций вроде `mean`, `std`, `var`, посчитать среднее арифметическое, среднее квадратичное отклонение, смещённую и несмещённую оценки дисперсии для данной выборки.\n",
    "\n",
    "Можно затем посчитать те же значения с использованием статистических функций, чтобы проверить себя.\n",
    "\n",
    "__Задача 2__\n",
    "\n",
    "Для выборки из задачи 1 найти первый и третий квартили, интерквартильное расстояние. Найти выборсы в выборке, используя для этого \"усы\" из `boxplot`. \n",
    "\n",
    "В этой задаче также нельзя использовать статистические функции. Неоднозначности в вычислении квантилей можно разрешать любым способом.\n",
    "\n",
    "__Задача 3__\n",
    "\n",
    "Для распределения Пуассона с параметром `a = 5` найти теоретические (т.е. используя закон распределения, а не выборку) мат. ожидание, моду и медиану.\n",
    "\n",
    "__Задача 4__\n",
    "\n",
    "В университет на факультеты `A` и `B` поступило равное количество студентов, а на факультет `C` студентов поступило столько же, сколько на `A` и `B` вместе. Вероятность того, что студент факультета `A` сдаст первую сессию, равна 0.8. Для студента факультета `B` эта вероятность равна 0.7, а для студента факультета `C` - 0.9. Студент сдал первую сессию. Какова вероятность, что он учится: a) на факультете `A`? б) на факультете `B`? в) на факультете `C`?\n",
    "\n",
    "_Замечание_: да, эта задача не на тему описательных статистик, но тема важная, и её стоит иногда освежать в памяти."
   ]
  }
 ],
 "metadata": {
  "colab": {
   "name": "Матстат - Урок 3.ipynb",
   "provenance": [],
   "version": "0.3.2"
  },
  "kernelspec": {
   "display_name": "Python 3",
   "language": "python",
   "name": "python3"
  },
  "language_info": {
   "codemirror_mode": {
    "name": "ipython",
    "version": 3
   },
   "file_extension": ".py",
   "mimetype": "text/x-python",
   "name": "python",
   "nbconvert_exporter": "python",
   "pygments_lexer": "ipython3",
   "version": "3.7.3"
  }
 },
 "nbformat": 4,
 "nbformat_minor": 1
}
