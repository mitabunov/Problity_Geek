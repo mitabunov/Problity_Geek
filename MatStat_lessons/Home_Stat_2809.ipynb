{
 "cells": [
  {
   "cell_type": "code",
   "execution_count": 4,
   "metadata": {},
   "outputs": [],
   "source": [
    "import numpy as np\n",
    "import pandas as pd\n",
    "from matplotlib import pyplot as plt\n",
    "from scipy import stats"
   ]
  },
  {
   "cell_type": "markdown",
   "metadata": {},
   "source": [
    "Задача 1\n",
    "\n",
    "Даны значения величины заработной платы заемщиков банка (salary) и значения их поведенческого кредитного скоринга (scoring):\n",
    "\n",
    "salary = [35, 45, 190, 200, 40, 70, 54, 150, 120, 110]\n",
    "scoring = [401, 574, 874, 919, 459, 739, 653, 902, 746, 832]\n",
    "\n",
    "    Найдите ковариацию этих двух величин: сначала без использования специальных функций, а затем с помощью функции numpy.cov. Полученные значения должны быть равны.\n",
    "    Найдите коэффициент корреляции Пирсона: с помощью ковариации и средних квадратических отклонений двух признаков, а затем с помощью специальных функций из библиотек numpy и pandas.\n"
   ]
  },
  {
   "cell_type": "code",
   "execution_count": 23,
   "metadata": {},
   "outputs": [
    {
     "name": "stdout",
     "output_type": "stream",
     "text": [
      "Ручные коварииации:  9157.84 9157.839999999997\n",
      "Встроенная ковариация:  [[ 3882.93333333 10175.37777778]\n",
      " [10175.37777778 33854.32222222]]\n"
     ]
    }
   ],
   "source": [
    "salary = np.array([35, 45, 190, 200, 40, 70, 54, 150, 120, 110])\n",
    "scoring = np.array([401, 574, 874, 919, 459, 739, 653, 902, 746, 832])\n",
    "# result = pd.DataFrame(salary,scoring).reset_index()\n",
    "\n",
    "MX = salary.mean()\n",
    "MY = scoring.mean()\n",
    "\n",
    "cov_0 = ((salary - MX) * (scoring - MY)).mean()\n",
    "cov_1 = (salary * scoring).mean() - MX * MY\n",
    "\n",
    "cov_3 = np.cov(salary, scoring)\n",
    "\n",
    "print('Ручные коварииации: ',cov_0, cov_1) \n",
    " \n",
    "print('Встроенная ковариация: ',cov_3)"
   ]
  },
  {
   "cell_type": "code",
   "execution_count": 22,
   "metadata": {
    "scrolled": true
   },
   "outputs": [
    {
     "name": "stdout",
     "output_type": "stream",
     "text": [
      "   index    0\n",
      "0    401   35\n",
      "1    574   45\n",
      "2    874  190\n",
      "3    919  200\n",
      "4    459   40\n",
      "5    739   70\n",
      "6    653   54\n",
      "7    902  150\n",
      "8    746  120\n",
      "9    832  110\n",
      "************\n",
      "         index        0\n",
      "index  1.00000  0.88749\n",
      "0      0.88749  1.00000\n",
      "************\n",
      "0.8874900920739162\n",
      "************\n",
      "Коэффициент корреляции Пирсона: [[1.         0.88749009]\n",
      " [0.88749009 1.        ]]\n"
     ]
    }
   ],
   "source": [
    "result = pd.DataFrame(salary,scoring).reset_index()\n",
    "\n",
    "corr = cov_0 / (salary.std() * scoring.std())\n",
    "\n",
    "print(result)\n",
    "print('************')\n",
    "print(result.corr())\n",
    "print('************')\n",
    "print(corr)\n",
    "print('************')\n",
    "print('Коэффициент корреляции Пирсона:',np.corrcoef(salary,scoring))\n"
   ]
  },
  {
   "cell_type": "markdown",
   "metadata": {},
   "source": [
    "Известно, что рост футболистов в сборной \n",
    "распределён нормально с известной дисперсией 25. \n",
    "На выборке объёма 27 выборочное среднее составило 174.2. \n",
    "Найдите доверительный интервал для математического ожидания с надёжностью 0.95."
   ]
  },
  {
   "cell_type": "code",
   "execution_count": 8,
   "metadata": {},
   "outputs": [
    {
     "data": {
      "text/plain": [
       "(27, 174.2, 5)"
      ]
     },
     "execution_count": 8,
     "metadata": {},
     "output_type": "execute_result"
    }
   ],
   "source": [
    "n = 27\n",
    "\n",
    "mean = 174.2\n",
    "std = 5\n",
    "\n",
    "n, mean, std"
   ]
  },
  {
   "cell_type": "code",
   "execution_count": 9,
   "metadata": {},
   "outputs": [
    {
     "name": "stdout",
     "output_type": "stream",
     "text": [
      "t-распределение 2.055529438642871\n"
     ]
    }
   ],
   "source": [
    "alpha = 0.05\n",
    "\n",
    "t = stats.t.ppf(1 - alpha / 2, df=n - 1)\n",
    "print('t-распределение', t)"
   ]
  },
  {
   "cell_type": "code",
   "execution_count": 10,
   "metadata": {},
   "outputs": [
    {
     "name": "stdout",
     "output_type": "stream",
     "text": [
      "Доверительный интервал: 172.2220658754539, 176.17793412454608 \n"
     ]
    }
   ],
   "source": [
    "print('Доверительный интервал: {}, {} '.format((mean - t * std / np.sqrt(n)), (mean + t * std / np.sqrt(n))))"
   ]
  },
  {
   "cell_type": "markdown",
   "metadata": {},
   "source": [
    "Измерены значения IQ выборки студентов, обучающихся в местных технических вузах:\n",
    "\n",
    "131, 125, 115, 122, 131, 115, 107, 99, 125, 111\n",
    "\n",
    "Известно, что в генеральной совокупности IQ распределен нормально. Найдите доверительный интервал для математического ожидания с надежностью 0.95."
   ]
  },
  {
   "cell_type": "code",
   "execution_count": 19,
   "metadata": {},
   "outputs": [
    {
     "data": {
      "text/plain": [
       "(118.1,\n",
       " 10.54566788359614,\n",
       " 2.2621571627409915,\n",
       " (110.55608365158724, 125.64391634841274))"
      ]
     },
     "execution_count": 19,
     "metadata": {},
     "output_type": "execute_result"
    }
   ],
   "source": [
    "IQ = np.array([131, 125, 115, 122, 131, 115, 107, 99, 125, 111])\n",
    "mean = IQ.mean()\n",
    "std = IQ.std(ddof=1)\n",
    "\n",
    "alpha = 0.05\n",
    "\n",
    "t = stats.t.ppf(1 - alpha / 2, df= IQ.shape[0] - 1)\n",
    "\n",
    "\n",
    "mean, std, t, (mean - t * std / np.sqrt(IQ.shape[0]), mean + t * std / np.sqrt(IQ.shape[0]))\n",
    "\n"
   ]
  },
  {
   "cell_type": "code",
   "execution_count": 20,
   "metadata": {},
   "outputs": [
    {
     "name": "stdout",
     "output_type": "stream",
     "text": [
      "Доверительный интервал: (110.55608365158724, 125.64391634841274) \n"
     ]
    }
   ],
   "source": [
    "print('Доверительный интервал: {} '.format((mean - t * std / np.sqrt(IQ.shape[0]), mean + t * std / np.sqrt(IQ.shape[0]))))\n",
    "  "
   ]
  },
  {
   "cell_type": "markdown",
   "metadata": {},
   "source": [
    "Задание №4\n",
    "\n",
    "Я хочу себе взять эту тему:\n",
    "Описательная статистика (статистические характеристики, графики, взаимосвязь величин, дисперсионный и факторный анализ)\n",
    "\n",
    "По этому датасету:\n",
    "    \n",
    "    https://www.kaggle.com/alextar04/vk-social-network-dataset \n",
    "    \n",
    "        ID                   998 non-null int64\n",
    "        countFriends         998 non-null int64\n",
    "        countFollowers       998 non-null int64\n",
    "        boolComments         998 non-null bool\n",
    "        countOwnerPosts      998 non-null int64\n",
    "        countOwnerReposts    998 non-null int64\n",
    "        countPhotos          998 non-null int64\n",
    "        countVideos          998 non-null int64\n",
    "        countLikesPhotoes    998 non-null int64\n",
    "        sex                  998 non-null int64\n",
    "    \n",
    "    Прверить статистические зависимости, найти и сопоставить аномалии,причины этих аномалий(выбросов).\n",
    "    Есть ли связь между подписчиками, друзьями, полом, активностью, связь постов и репостов.\n",
    "    Что является главным в популярности(подписчики) и в приверженности(друзья)?\n",
    "\n",
    "    "
   ]
  }
 ],
 "metadata": {
  "kernelspec": {
   "display_name": "Python 3",
   "language": "python",
   "name": "python3"
  },
  "language_info": {
   "codemirror_mode": {
    "name": "ipython",
    "version": 3
   },
   "file_extension": ".py",
   "mimetype": "text/x-python",
   "name": "python",
   "nbconvert_exporter": "python",
   "pygments_lexer": "ipython3",
   "version": "3.7.3"
  }
 },
 "nbformat": 4,
 "nbformat_minor": 2
}
