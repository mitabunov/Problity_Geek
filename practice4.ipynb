{
 "cells": [
  {
   "cell_type": "markdown",
   "metadata": {
    "colab_type": "text",
    "id": "BtMkTMxui6Ut"
   },
   "source": [
    "# Урок 4\n",
    "\n",
    "## Непрерывные случайные величины. Функция распределения и плотность распределения вероятностей. Равномерное и нормальное распределение. Центральная предельная теорема\n",
    "\n",
    "### Непрерывные случайные величины\n",
    "\n",
    "Ранее мы познакомились с дискретными случайными величинами. Такие величины принимают дискретные, т.е. разделимые значения. Например, это может быть конечное или счётное множество значений.\n",
    "\n",
    "__Непрерывные случайные величины__ принимают все значения, содержащиеся в заданном промежутке. Промежуток может быть конечным или бесконечным.\n",
    "\n",
    "Например, рост или вес человека — непрерывные случайные величины: они могут принимать любое значение в пределах от $0$ до бесконечности (потенциально).\n",
    "\n",
    "Закон распределения вероятностей дискретной случайной величины мы задавали как соответствие между значениями $a_i$ случайной величины и соответствующими вероятностями $P(X = a_i)$. Для непрерывных случайных величин аналогичный подход невозможен, поскольку вероятность $P(X = a)$ для непрерывной случайной величины $X$ равна $0$ для любого $a$.\n",
    "\n",
    "В связи с этим для непрерывных случайных величин вводят вместо этого __функцию распределения вероятностей__:\n",
    "\n",
    "$$F(x) = P(X < x).$$\n",
    "\n",
    "Функция распределения показывает, какова для каждого $x$ вероятность того, что случайная величина $X$ принимает значение меньше $x$. Эта функция монотонно возрастает на отрезке, на котором определена случайная величина. Кроме того, $F(-\\infty) = 0$ и $F(\\infty) = 1$.\n",
    "\n",
    "__Пример 1__\n",
    "\n",
    "Рассмотрим опять данные по хоккеистам и построим по ним _эмпирическую_ (т.е. полученную опытным путём) функцию распределения возраста хоккеистов."
   ]
  },
  {
   "cell_type": "code",
   "execution_count": 7,
   "metadata": {},
   "outputs": [],
   "source": [
    "import pandas as pd\n",
    "import numpy as np\n",
    "from matplotlib import pyplot as plt\n",
    "\n",
    "plt.rcParams['figure.figsize'] = 12, 8"
   ]
  },
  {
   "cell_type": "code",
   "execution_count": 2,
   "metadata": {},
   "outputs": [
    {
     "data": {
      "text/html": [
       "<div>\n",
       "<style scoped>\n",
       "    .dataframe tbody tr th:only-of-type {\n",
       "        vertical-align: middle;\n",
       "    }\n",
       "\n",
       "    .dataframe tbody tr th {\n",
       "        vertical-align: top;\n",
       "    }\n",
       "\n",
       "    .dataframe thead th {\n",
       "        text-align: right;\n",
       "    }\n",
       "</style>\n",
       "<table border=\"1\" class=\"dataframe\">\n",
       "  <thead>\n",
       "    <tr style=\"text-align: right;\">\n",
       "      <th></th>\n",
       "      <th>year</th>\n",
       "      <th>country</th>\n",
       "      <th>no</th>\n",
       "      <th>name</th>\n",
       "      <th>position</th>\n",
       "      <th>side</th>\n",
       "      <th>height</th>\n",
       "      <th>weight</th>\n",
       "      <th>birth</th>\n",
       "      <th>club</th>\n",
       "      <th>age</th>\n",
       "      <th>cohort</th>\n",
       "      <th>bmi</th>\n",
       "    </tr>\n",
       "  </thead>\n",
       "  <tbody>\n",
       "    <tr>\n",
       "      <th>0</th>\n",
       "      <td>2001</td>\n",
       "      <td>RUS</td>\n",
       "      <td>10</td>\n",
       "      <td>tverdovsky oleg</td>\n",
       "      <td>D</td>\n",
       "      <td>L</td>\n",
       "      <td>185</td>\n",
       "      <td>84.0</td>\n",
       "      <td>1976-05-18</td>\n",
       "      <td>anaheim mighty ducks</td>\n",
       "      <td>24.952772</td>\n",
       "      <td>1976</td>\n",
       "      <td>24.543462</td>\n",
       "    </tr>\n",
       "    <tr>\n",
       "      <th>1</th>\n",
       "      <td>2001</td>\n",
       "      <td>RUS</td>\n",
       "      <td>2</td>\n",
       "      <td>vichnevsky vitali</td>\n",
       "      <td>D</td>\n",
       "      <td>L</td>\n",
       "      <td>188</td>\n",
       "      <td>86.0</td>\n",
       "      <td>1980-03-18</td>\n",
       "      <td>anaheim mighty ducks</td>\n",
       "      <td>21.119781</td>\n",
       "      <td>1980</td>\n",
       "      <td>24.332277</td>\n",
       "    </tr>\n",
       "    <tr>\n",
       "      <th>2</th>\n",
       "      <td>2001</td>\n",
       "      <td>RUS</td>\n",
       "      <td>26</td>\n",
       "      <td>petrochinin evgeni</td>\n",
       "      <td>D</td>\n",
       "      <td>L</td>\n",
       "      <td>182</td>\n",
       "      <td>95.0</td>\n",
       "      <td>1976-02-07</td>\n",
       "      <td>severstal cherepovetal</td>\n",
       "      <td>25.229295</td>\n",
       "      <td>1976</td>\n",
       "      <td>28.680111</td>\n",
       "    </tr>\n",
       "    <tr>\n",
       "      <th>3</th>\n",
       "      <td>2001</td>\n",
       "      <td>RUS</td>\n",
       "      <td>28</td>\n",
       "      <td>zhdan alexander</td>\n",
       "      <td>D</td>\n",
       "      <td>R</td>\n",
       "      <td>178</td>\n",
       "      <td>85.0</td>\n",
       "      <td>1971-08-28</td>\n",
       "      <td>ak bars kazan</td>\n",
       "      <td>29.675565</td>\n",
       "      <td>1971</td>\n",
       "      <td>26.827421</td>\n",
       "    </tr>\n",
       "    <tr>\n",
       "      <th>4</th>\n",
       "      <td>2001</td>\n",
       "      <td>RUS</td>\n",
       "      <td>32</td>\n",
       "      <td>orekhovsky oleg</td>\n",
       "      <td>D</td>\n",
       "      <td>R</td>\n",
       "      <td>175</td>\n",
       "      <td>88.0</td>\n",
       "      <td>1977-11-03</td>\n",
       "      <td>dynamo moscow</td>\n",
       "      <td>23.490760</td>\n",
       "      <td>1977</td>\n",
       "      <td>28.734694</td>\n",
       "    </tr>\n",
       "  </tbody>\n",
       "</table>\n",
       "</div>"
      ],
      "text/plain": [
       "   year country  no                 name position side  height  weight  \\\n",
       "0  2001     RUS  10     tverdovsky oleg         D    L     185    84.0   \n",
       "1  2001     RUS   2   vichnevsky vitali         D    L     188    86.0   \n",
       "2  2001     RUS  26  petrochinin evgeni         D    L     182    95.0   \n",
       "3  2001     RUS  28     zhdan alexander         D    R     178    85.0   \n",
       "4  2001     RUS  32     orekhovsky oleg         D    R     175    88.0   \n",
       "\n",
       "       birth                     club        age  cohort        bmi  \n",
       "0 1976-05-18    anaheim mighty ducks   24.952772    1976  24.543462  \n",
       "1 1980-03-18    anaheim mighty ducks   21.119781    1980  24.332277  \n",
       "2 1976-02-07  severstal cherepovetal   25.229295    1976  28.680111  \n",
       "3 1971-08-28           ak bars kazan   29.675565    1971  26.827421  \n",
       "4 1977-11-03           dynamo moscow   23.490760    1977  28.734694  "
      ]
     },
     "execution_count": 2,
     "metadata": {},
     "output_type": "execute_result"
    }
   ],
   "source": [
    "df = pd.read_csv('hockey_players.csv', encoding='cp1251', parse_dates=['birth'])\n",
    "df = df.drop_duplicates(['name', 'birth'])\n",
    "df.head()"
   ]
  },
  {
   "cell_type": "code",
   "execution_count": 3,
   "metadata": {},
   "outputs": [],
   "source": [
    "def edf(samples, x: float) -> float:\n",
    "    \"\"\"Эмпирическая функция распределения (empirical distribution\n",
    "    function).\n",
    "    \"\"\"\n",
    "    \n",
    "    return samples[samples < x].shape[0] / samples.shape[0]"
   ]
  },
  {
   "cell_type": "markdown",
   "metadata": {},
   "source": [
    "С помощью `matplotlib` построим график данной функции в пределах от $10$ до $50$."
   ]
  },
  {
   "cell_type": "code",
   "execution_count": 8,
   "metadata": {},
   "outputs": [
    {
     "data": {
      "text/plain": [
       "[<matplotlib.lines.Line2D at 0x7fb43ab85400>]"
      ]
     },
     "execution_count": 8,
     "metadata": {},
     "output_type": "execute_result"
    },
    {
     "data": {
      "image/png": "[encoded data removed]",
      "text/plain": [
       "<Figure size 864x576 with 1 Axes>"
      ]
     },
     "metadata": {
      "needs_background": "light"
     },
     "output_type": "display_data"
    }
   ],
   "source": [
    "ox = np.linspace(10, 50, 1000)\n",
    "oy = np.array([edf(df['age'], x) for x in ox])\n",
    "\n",
    "plt.plot(ox, oy)"
   ]
  },
  {
   "cell_type": "markdown",
   "metadata": {},
   "source": [
    "Аналогию с законом распределения вероятностей дискретной случайной величины удобно проводить с помощью __плотности распределения вероятностей__. Функция плотности распределения равна производной от функции распределения:\n",
    "\n",
    "$$f(x) = F'(x).$$\n",
    "\n",
    "Для непрерывной случайной величины площадь под графиком функции $f(x)$ равна $1$, аналогично тому, что сумма вероятностей значений дискретной случайной величины равна $1$.\n",
    "\n",
    "Однако, стоит помнить, что значение $f(x)$ не является вероятностью $P(X = x)$. В некоторых случаях отдельные значения $f(x)$ могут быть вовсе больше $1$.\n",
    "\n",
    "Плотность распределения можно визуализировать с помощью гистограммы, передав в неё значение параметра `density=True`.\n",
    "\n",
    "__Пример 2__\n",
    "\n",
    "Построим гистограмму значений возраста хоккеистов, чтобы примерно представить, как выглядит соответствующая функция плотности распределения."
   ]
  },
  {
   "cell_type": "code",
   "execution_count": 9,
   "metadata": {},
   "outputs": [
    {
     "data": {
      "image/png": "[encoded data removed]",
      "text/plain": [
       "<Figure size 864x576 with 1 Axes>"
      ]
     },
     "metadata": {
      "needs_background": "light"
     },
     "output_type": "display_data"
    }
   ],
   "source": [
    "plt.hist(df['age'], density=True, bins=15)\n",
    "plt.show()"
   ]
  },
  {
   "cell_type": "markdown",
   "metadata": {},
   "source": [
    "Математическое ожидание и дисперсия для непрерывной случайной величины также считаются иначе, чем для дискретной. \n",
    "\n",
    "Формула для математического ожидания:\n",
    "\n",
    "$$M(X) = \\displaystyle\\int_{-\\infty}^\\infty x \\cdot f(x) \\: dx$$\n",
    "\n",
    "Формула для дисперсии:\n",
    "\n",
    "$$D(X) = \\displaystyle\\int_{-\\infty}^\\infty (x - M(X))^2 \\cdot f(x) \\: dx$$"
   ]
  },
  {
   "cell_type": "markdown",
   "metadata": {},
   "source": [
    "### Примеры непрерывных распределений\n",
    "\n",
    "Непрерывная случайная величина $X$ имеет __равномерное распределение__ на отрезке $[a, b]$, если её плотность внутри этого отрезка постоянна, а вне этого отрезка равна 0. Её плотность распределения:\n",
    "\n",
    "$$\n",
    "f(x) = \\begin{cases}\n",
    "\\dfrac{1}{b - a}, & x \\in [a, b], \\\\\n",
    "0, & x \\not\\in [a, b].\n",
    "\\end{cases}\n",
    "$$\n",
    "\n",
    "Не путать с _дискретным равномерным_ распределением.\n",
    "\n",
    "__Пример 3__\n",
    "\n",
    "Выборку из равномерного распределения можно получить с помощью функции `uniform` из модуля `numpy.random`. Построим выборку из равномерного распределения с параметрами $a = -1.5$, $b = 2.5$."
   ]
  },
  {
   "cell_type": "code",
   "execution_count": 10,
   "metadata": {},
   "outputs": [],
   "source": [
    "a = -1.5\n",
    "b = 2.5"
   ]
  },
  {
   "cell_type": "code",
   "execution_count": 20,
   "metadata": {},
   "outputs": [
    {
     "name": "stdout",
     "output_type": "stream",
     "text": [
      "[-1.42634902  1.97903937 -1.07445784 ...  1.37282428 -0.73727665\n",
      "  2.19243638]\n"
     ]
    }
   ],
   "source": [
    "samples = np.random.uniform(a, b, size=10000)\n",
    "\n",
    "print(samples)"
   ]
  },
  {
   "cell_type": "markdown",
   "metadata": {},
   "source": [
    "Построим эмпирическую функцию распределения."
   ]
  },
  {
   "cell_type": "code",
   "execution_count": 21,
   "metadata": {},
   "outputs": [
    {
     "data": {
      "text/plain": [
       "[<matplotlib.lines.Line2D at 0x7fb43a91cf60>]"
      ]
     },
     "execution_count": 21,
     "metadata": {},
     "output_type": "execute_result"
    },
    {
     "data": {
      "image/png": "[encoded data removed]",
      "text/plain": [
       "<Figure size 864x576 with 1 Axes>"
      ]
     },
     "metadata": {
      "needs_background": "light"
     },
     "output_type": "display_data"
    }
   ],
   "source": [
    "ox = np.linspace(-4, 4, 1000)\n",
    "oy = np.array([edf(samples=samples, x=x) for x in ox])\n",
    "\n",
    "plt.plot(ox, oy)"
   ]
  },
  {
   "cell_type": "markdown",
   "metadata": {},
   "source": [
    "Построим гистограмму, чтобы визуализировать функцию плотности. Вместе с ней построим теоретическую функцию плотности."
   ]
  },
  {
   "cell_type": "code",
   "execution_count": 22,
   "metadata": {},
   "outputs": [],
   "source": [
    "def pdf_uniform(a: float, b: float, x: float) -> float:\n",
    "    \"\"\"Функция плотности (probability density \n",
    "    function) равномерного распределения.\n",
    "    \"\"\"\n",
    "    \n",
    "    return 1 / (b - a) if a <= x <= b else 0"
   ]
  },
  {
   "cell_type": "code",
   "execution_count": 23,
   "metadata": {},
   "outputs": [
    {
     "data": {
      "text/plain": [
       "[<matplotlib.lines.Line2D at 0x7fb43ab3e3c8>]"
      ]
     },
     "execution_count": 23,
     "metadata": {},
     "output_type": "execute_result"
    },
    {
     "data": {
      "image/png": "[encoded data removed]",
      "text/plain": [
       "<Figure size 864x576 with 1 Axes>"
      ]
     },
     "metadata": {
      "needs_background": "light"
     },
     "output_type": "display_data"
    }
   ],
   "source": [
    "oy = np.array([pdf_uniform(a, b, x) for x in ox])\n",
    "\n",
    "plt.hist(samples, density=True)\n",
    "plt.plot(ox, oy)"
   ]
  },
  {
   "cell_type": "markdown",
   "metadata": {},
   "source": [
    "Математическое ожидание и дисперсия равномерного распределения:\n",
    "\n",
    "$$M(X) = \\dfrac{a + b}{2}, \\text{ } D(X) = \\dfrac{(b - a)^2}{12}.$$\n",
    "\n",
    "__Пример 4__\n",
    "\n",
    "Математическое ожидание распределения из предыдущего примера равно\n",
    "\n",
    "$$M(X) = \\dfrac{a + b}{2} = \\dfrac{-1.5 + 2.5}{2} = \\dfrac{1}{2}.$$\n",
    "\n",
    "Посчитаем выборочное среднее от выборки:"
   ]
  },
  {
   "cell_type": "code",
   "execution_count": 24,
   "metadata": {},
   "outputs": [
    {
     "data": {
      "text/plain": [
       "0.5124281978703791"
      ]
     },
     "execution_count": 24,
     "metadata": {},
     "output_type": "execute_result"
    }
   ],
   "source": [
    "samples.mean()"
   ]
  },
  {
   "cell_type": "markdown",
   "metadata": {},
   "source": [
    "Дисперсия этого распредлеения равна\n",
    "\n",
    "$$D(X) = \\dfrac{(b - a)^2}{12} = \\dfrac{4^2}{12} = \\dfrac{4}{3} \\approx 1.333.$$\n",
    "\n",
    "Выборочная дисперсия (несмещённая) от выборки:"
   ]
  },
  {
   "cell_type": "code",
   "execution_count": 26,
   "metadata": {},
   "outputs": [
    {
     "data": {
      "text/plain": [
       "1.3202418566857361"
      ]
     },
     "execution_count": 26,
     "metadata": {},
     "output_type": "execute_result"
    }
   ],
   "source": [
    "samples.var(ddof=1)"
   ]
  },
  {
   "cell_type": "markdown",
   "metadata": {},
   "source": [
    "Непрерывная случайная величина $X$ имеет __нормальное распределение__ с параметрами $a$ и $\\sigma > 0$, если её плотность распределения задаётся формулой\n",
    "\n",
    "$$f(x) = \\dfrac{1}{\\sigma \\sqrt{2 \\pi}} \\: e^{- \\frac{(x - a)^2}{2 \\sigma^2}}.$$\n",
    "\n",
    "Нормальное распределение с параметрами $a = 0$ и $\\sigma = 1$ называется __стандартным нормальным распределением__.\n",
    "\n",
    "Нормальное распределение является одним из наиболее распространённых на практике. Например, нормально распределены:\n",
    "\n",
    "* рост, вес людей\n",
    "* показатели IQ\n",
    "* время прихода на работу\n",
    "* скорость движения молекул в жидкостях и газах\n",
    "\n",
    "Как правило, нормально распределёнными являются случайные величины, описывающие события, которые зависят от большого числа слабо связанных случайных факторов.\n",
    "\n",
    "__Пример 5__\n",
    "\n",
    "Выборку из нормального распределения можно получить с помощью функции `normal` из модуля `numpy.random`. Построим такую выборку с параметрами $a = 3$, $\\sigma = 2$."
   ]
  },
  {
   "cell_type": "code",
   "execution_count": 31,
   "metadata": {},
   "outputs": [],
   "source": [
    "loc = 3\n",
    "scale = 2"
   ]
  },
  {
   "cell_type": "code",
   "execution_count": 32,
   "metadata": {},
   "outputs": [
    {
     "name": "stdout",
     "output_type": "stream",
     "text": [
      "[ 1.12624092  5.88304784  4.28328741 ... -0.43321414  2.33125297\n",
      "  1.09358404]\n"
     ]
    }
   ],
   "source": [
    "samples = np.random.normal(loc, scale, size=10000)\n",
    "\n",
    "print(samples)"
   ]
  },
  {
   "cell_type": "markdown",
   "metadata": {},
   "source": [
    "Эмпирическая функция распределения:"
   ]
  },
  {
   "cell_type": "code",
   "execution_count": 33,
   "metadata": {},
   "outputs": [
    {
     "data": {
      "text/plain": [
       "[<matplotlib.lines.Line2D at 0x7fb43a59f710>]"
      ]
     },
     "execution_count": 33,
     "metadata": {},
     "output_type": "execute_result"
    },
    {
     "data": {
      "image/png": "[encoded data removed]",
      "text/plain": [
       "<Figure size 864x576 with 1 Axes>"
      ]
     },
     "metadata": {
      "needs_background": "light"
     },
     "output_type": "display_data"
    }
   ],
   "source": [
    "ox = np.linspace(-8, 12, 1000)\n",
    "oy = np.array([edf(samples, x) for x in ox])\n",
    "\n",
    "plt.plot(ox, oy)"
   ]
  },
  {
   "cell_type": "markdown",
   "metadata": {},
   "source": [
    "Гистограмма выборки и теоретическая функция плотности:"
   ]
  },
  {
   "cell_type": "code",
   "execution_count": 34,
   "metadata": {},
   "outputs": [],
   "source": [
    "def pdf_normal(loc: float, scale: float, x: float) -> float:\n",
    "    \"\"\"Функция плотности нормального распределения.\n",
    "    \"\"\"\n",
    "    \n",
    "    return np.exp(- ((x - loc) ** 2) / (2 * scale ** 2)) / (scale * np.sqrt(2 * np.pi))"
   ]
  },
  {
   "cell_type": "code",
   "execution_count": 35,
   "metadata": {},
   "outputs": [
    {
     "data": {
      "text/plain": [
       "[<matplotlib.lines.Line2D at 0x7fb43a5f5fd0>]"
      ]
     },
     "execution_count": 35,
     "metadata": {},
     "output_type": "execute_result"
    },
    {
     "data": {
      "image/png": "[encoded data removed]",
      "text/plain": [
       "<Figure size 864x576 with 1 Axes>"
      ]
     },
     "metadata": {
      "needs_background": "light"
     },
     "output_type": "display_data"
    }
   ],
   "source": [
    "oy = np.array([pdf_normal(loc, scale, x) for x in ox])\n",
    "\n",
    "plt.hist(samples, density=True, bins=15)\n",
    "plt.plot(ox, oy)"
   ]
  },
  {
   "cell_type": "markdown",
   "metadata": {},
   "source": [
    "Кстати, в модуле `scipy.stats` есть готовые функции распределения и плотности для многих известных распределений (об этом ниже).\n",
    "\n",
    "Математическое ожидание и дисперсия нормального распределения:\n",
    "\n",
    "$$M(X) = a, \\: D(X) = \\sigma^2.$$\n",
    "\n",
    "__Пример 6__\n",
    "\n",
    "Математическое ожидание распределения из предыдущего примера равно 3. Посчитаем выборочное среднее:"
   ]
  },
  {
   "cell_type": "code",
   "execution_count": null,
   "metadata": {},
   "outputs": [],
   "source": [
    "samples.mean()"
   ]
  },
  {
   "cell_type": "markdown",
   "metadata": {},
   "source": [
    "Дисперсия равна 4. Выборочная дисперсия:"
   ]
  },
  {
   "cell_type": "code",
   "execution_count": null,
   "metadata": {},
   "outputs": [],
   "source": [
    "samples.var()"
   ]
  },
  {
   "cell_type": "markdown",
   "metadata": {},
   "source": [
    "Для вычисления разброса значений нормально распределённой случайной величины можно использовать следующие правила:\n",
    "\n",
    "* _Интерквартильный размах такой_ величины содержит $50\\%$ её вероятностной массы (т.е. с вероятностью $50\\%$ данная величина попадает в этот интервал).\n",
    "* Интервал от $a - \\sigma$ до $a + \\sigma$ содержит около $68\\%$ вероятностной массы.\n",
    "* От $a - 2\\sigma$ до $a + 2\\sigma$ — около $95\\%$ массы (__правило двух сигм__).\n",
    "* От $a - 3\\sigma$ до $a + 3\\sigma$ — около $99.7\\%$ массы (__правило трёх сигм__)."
   ]
  },
  {
   "cell_type": "code",
   "execution_count": 44,
   "metadata": {},
   "outputs": [
    {
     "data": {
      "text/plain": [
       "0.6826894921370859"
      ]
     },
     "execution_count": 44,
     "metadata": {},
     "output_type": "execute_result"
    }
   ],
   "source": [
    "stats.norm.cdf(1) - stats.norm.cdf(-1)"
   ]
  },
  {
   "cell_type": "code",
   "execution_count": 45,
   "metadata": {},
   "outputs": [
    {
     "data": {
      "text/plain": [
       "0.9544997361036416"
      ]
     },
     "execution_count": 45,
     "metadata": {},
     "output_type": "execute_result"
    }
   ],
   "source": [
    "stats.norm.cdf(2) - stats.norm.cdf(-2)"
   ]
  },
  {
   "cell_type": "code",
   "execution_count": 46,
   "metadata": {},
   "outputs": [
    {
     "data": {
      "text/plain": [
       "0.9973002039367398"
      ]
     },
     "execution_count": 46,
     "metadata": {},
     "output_type": "execute_result"
    }
   ],
   "source": [
    "stats.norm.cdf(3) - stats.norm.cdf(-3)"
   ]
  },
  {
   "cell_type": "markdown",
   "metadata": {},
   "source": [
    "__Пример 7__\n",
    "\n",
    "Вернёмся к данным о хоккеистах и рассмотрим столбец с ростом. Построим его гистограмму."
   ]
  },
  {
   "cell_type": "code",
   "execution_count": 47,
   "metadata": {},
   "outputs": [
    {
     "data": {
      "image/png": "[encoded data removed]",
      "text/plain": [
       "<Figure size 864x576 with 1 Axes>"
      ]
     },
     "metadata": {
      "needs_background": "light"
     },
     "output_type": "display_data"
    }
   ],
   "source": [
    "plt.hist(df['height'], bins=20)\n",
    "plt.show()"
   ]
  },
  {
   "cell_type": "markdown",
   "metadata": {},
   "source": [
    "Мы знаем, что рост — одна из величин, которая может распределяться нормально. Восстановим по выборке значения $a$ и $\\sigma$ и построим поверх гистограммы теоретическую функцию плотности соответствующего нормального распределения."
   ]
  },
  {
   "cell_type": "code",
   "execution_count": 50,
   "metadata": {},
   "outputs": [
    {
     "data": {
      "text/plain": [
       "(183.829386763813, 5.467628706191652)"
      ]
     },
     "execution_count": 50,
     "metadata": {},
     "output_type": "execute_result"
    }
   ],
   "source": [
    "loc = df['height'].mean()\n",
    "scale = df['height'].std()\n",
    "\n",
    "loc, scale"
   ]
  },
  {
   "cell_type": "code",
   "execution_count": 51,
   "metadata": {},
   "outputs": [
    {
     "data": {
      "text/plain": [
       "[<matplotlib.lines.Line2D at 0x7fb431b8b9e8>]"
      ]
     },
     "execution_count": 51,
     "metadata": {},
     "output_type": "execute_result"
    },
    {
     "data": {
      "image/png": "[encoded data removed]",
      "text/plain": [
       "<Figure size 864x576 with 1 Axes>"
      ]
     },
     "metadata": {
      "needs_background": "light"
     },
     "output_type": "display_data"
    }
   ],
   "source": [
    "ox = np.linspace(165, 205, 1000)\n",
    "oy = np.array([pdf_normal(loc, scale, x) for x in ox])\n",
    "\n",
    "plt.hist(df['height'], density=True, bins=20)\n",
    "plt.plot(ox, oy)"
   ]
  },
  {
   "cell_type": "markdown",
   "metadata": {},
   "source": [
    "Проверим на этих данных правило двух сигм. В отрезке `(loc - 2 * scale, loc + 2 * scale)` должно содержаться $95\\%$ значений."
   ]
  },
  {
   "cell_type": "code",
   "execution_count": 52,
   "metadata": {},
   "outputs": [
    {
     "data": {
      "text/plain": [
       "0.9556769884638737"
      ]
     },
     "execution_count": 52,
     "metadata": {},
     "output_type": "execute_result"
    }
   ],
   "source": [
    "two_sigmas_condition = (df['height'] > loc - 2 * scale) & (df['height'] < loc + 2 * scale)\n",
    "\n",
    "df[two_sigmas_condition].shape[0] / df.shape[0]"
   ]
  },
  {
   "cell_type": "markdown",
   "metadata": {},
   "source": [
    "__Другие непрерывные распределения__\n",
    "\n",
    "* __Экспоненциальное__ (или __показательное__): время между последовательными свершениями одного и того же события. Функция распределения:\n",
    "\n",
    "$$\n",
    "F(x) = \\begin{cases}\n",
    "1 - e^{- \\lambda x}, & x \\geq 0, \\\\\n",
    "0, & x < 0.\n",
    "\\end{cases}\n",
    "$$\n",
    "\n",
    "### `scipy.stats`\n",
    "\n",
    "В модуле `scipy.stats` содержатся реализации основных функций для различных распределений:\n",
    "\n",
    "* `binom` — биномиальное,\n",
    "* `poisson` — Пуассоновское,\n",
    "* `norm` — нормальное,\n",
    "* `uniform` — непрерывное равномерное,\n",
    "* `t` — распределение Стьюдента (о нём позже)\n",
    "\n",
    "и др. Доступные функции:\n",
    "\n",
    "* `pmf` — закон распределения для дискретных величин,\n",
    "* `pdf` — функция плотности для непрерывных величин,\n",
    "* `cdf` — функция распределения,\n",
    "* `ppf` — квантильная функция (обратная к функции распределения)\n",
    "\n",
    "и др. Например, с помощью этого модуля можно получить значения функции нормального распределения, которая не вычисляется аналитично и доступна лишь численно."
   ]
  },
  {
   "cell_type": "code",
   "execution_count": null,
   "metadata": {},
   "outputs": [],
   "source": [
    "from scipy import stats"
   ]
  },
  {
   "cell_type": "code",
   "execution_count": null,
   "metadata": {},
   "outputs": [],
   "source": [
    "norm = stats.norm(loc=8, scale=2)\n",
    "cdf = norm.cdf"
   ]
  },
  {
   "cell_type": "code",
   "execution_count": null,
   "metadata": {},
   "outputs": [],
   "source": [
    "ox = np.linspace(0, 16, 1000)\n",
    "oy = np.array([cdf(x) for x in ox])\n",
    "\n",
    "plt.plot(ox, oy)"
   ]
  },
  {
   "cell_type": "markdown",
   "metadata": {},
   "source": [
    "А с помощью функции `ppf` получим значение третьего квартиля:"
   ]
  },
  {
   "cell_type": "code",
   "execution_count": null,
   "metadata": {},
   "outputs": [],
   "source": [
    "norm.ppf(0.75)"
   ]
  },
  {
   "cell_type": "markdown",
   "metadata": {},
   "source": [
    "### Центральная предельная теорема\n",
    "\n",
    "Ранее мы отмечали, что, как правило, случайные величины, описывающие события, которые зависят от большого числа слабо связанных случайных факторов, являются нормально распределёнными.\n",
    "Это правило хорошо иллюстрирует центральная предельная теорема.\n",
    "\n",
    "Рассмотрим выборку из $n$ значений случайной величины $X$ и пусть $Y$ — сумма этих значений. Как мы знаем, $Y$ также является случайной величиной. Какое распределение имеет эта величина?\n",
    "\n",
    "__Центральная предельная теорема__ утверждает: чем больше $n$, тем ближе распределение величины $Y$ к нормальному распределению с параметрами\n",
    "\n",
    "$$a = n \\cdot M(X), \\: \\sigma^2 = n \\cdot D(X).$$\n",
    "\n",
    "Аналогично, если в качестве $Y$ брать не сумму, а среднее значений выборки, то с увеличением $n$ распределение этого значения будет всё ближе к нормальному распределению с параметрами\n",
    "\n",
    "$$a = M(X), \\: \\sigma^2 = \\dfrac{D(X)}{n}.$$\n",
    "\n",
    "Отметим, что центральная предельная теорема работает не только для непрерывных случайных величин, но и для дискретных.\n",
    "\n",
    "__Пример 8__\n",
    "\n",
    "Проверим утверждение центральной предельной теоремы на равномерном распределении $X$ с параметрами $a = -1.5$,\n",
    "$b = 2.5$. Для этого при различных $n$ сформируем $n$ выборок размера, например, $10^4$, а затем посчитаем от них поэлементно среднее. Таким образом, мы получим одну выборку размера $10^4$. Теорема утверждает, что чем больше $n$, тем больше эта выборка похожа на выборку из некоторого нормального распределения $Y$.\n",
    "\n",
    "Математическое ожидание величины $X$ равно $\\dfrac{a + b}{2} = \\dfrac{1}{2}$. Дисперсия: \n",
    "$\\dfrac{(b - a)^2}{12} = \\dfrac{4^2}{12} = \\dfrac{4}{3}$. Это означает, что нормальное распределение $Y$ имеет параметры $a = \\dfrac{1}{2}$, $\\sigma^2 = \\dfrac{4}{3n}$."
   ]
  },
  {
   "cell_type": "code",
   "execution_count": 53,
   "metadata": {},
   "outputs": [],
   "source": [
    "a = -1.5\n",
    "b = 2.5\n",
    "\n",
    "m = (a + b) / 2\n",
    "d = ((b - a) ** 2) / 12\n",
    "\n",
    "n_samples = 10 ** 4"
   ]
  },
  {
   "cell_type": "code",
   "execution_count": 54,
   "metadata": {},
   "outputs": [],
   "source": [
    "def get_mean_samples_uniform(n):\n",
    "    samples = np.random.uniform(a, b, size=(n, n_samples))\n",
    "    \n",
    "    return samples.mean(axis=0)"
   ]
  },
  {
   "cell_type": "code",
   "execution_count": 55,
   "metadata": {},
   "outputs": [
    {
     "data": {
      "text/plain": [
       "[<matplotlib.lines.Line2D at 0x7fb430ed6a90>]"
      ]
     },
     "execution_count": 55,
     "metadata": {},
     "output_type": "execute_result"
    },
    {
     "data": {
      "image/png": "[encoded data removed]",
      "text/plain": [
       "<Figure size 864x576 with 1 Axes>"
      ]
     },
     "metadata": {
      "needs_background": "light"
     },
     "output_type": "display_data"
    }
   ],
   "source": [
    "n = 500\n",
    "\n",
    "loc = m\n",
    "scale = np.sqrt(d / n)\n",
    "\n",
    "samples = get_mean_samples_uniform(n)\n",
    "\n",
    "ox = np.linspace(loc - 4 * scale, loc + 4 * scale, 1000)\n",
    "oy = np.array([pdf_normal(loc, scale, x) for x in ox])\n",
    "\n",
    "plt.hist(samples, density=True, bins=20)\n",
    "plt.plot(ox, oy)"
   ]
  },
  {
   "cell_type": "markdown",
   "metadata": {},
   "source": [
    "__Пример 9__\n",
    "\n",
    "Аналогично продемонстрируем центральную предельную теорему на примере дискретного распределения, а именно биномиального с параметрами $n = 30$, $p = 0.2$. Параметр $n$ обозначим переменной `n_`, чтобы не конфликтовать с переменной `n`, отвечающей за число случайных величин, от которых берётся среднее.\n",
    "\n",
    "Математическое ожидание в данном случае равно $np = 6$, дисперсия: $np(1 - p) = 4.8$."
   ]
  },
  {
   "cell_type": "code",
   "execution_count": 56,
   "metadata": {},
   "outputs": [
    {
     "data": {
      "text/plain": [
       "4.800000000000001"
      ]
     },
     "execution_count": 56,
     "metadata": {},
     "output_type": "execute_result"
    }
   ],
   "source": [
    "30 * 0.2 * 0.8"
   ]
  },
  {
   "cell_type": "code",
   "execution_count": 57,
   "metadata": {},
   "outputs": [],
   "source": [
    "n_ = 30\n",
    "p = 0.2\n",
    "\n",
    "m = n_ * p\n",
    "d = n_ * p * (1 - p)\n",
    "\n",
    "n_samples = 10 ** 4"
   ]
  },
  {
   "cell_type": "code",
   "execution_count": 58,
   "metadata": {},
   "outputs": [],
   "source": [
    "def get_mean_samples_binomial(n):\n",
    "    samples = np.random.binomial(n_, p, size=(n, n_samples))\n",
    "    \n",
    "    return samples.mean(axis=0)"
   ]
  },
  {
   "cell_type": "code",
   "execution_count": 65,
   "metadata": {},
   "outputs": [
    {
     "data": {
      "text/plain": [
       "array([6.034, 5.888, 6.236, ..., 5.896, 5.946, 6.06 ])"
      ]
     },
     "execution_count": 65,
     "metadata": {},
     "output_type": "execute_result"
    }
   ],
   "source": [
    "get_mean_samples_binomial(500)"
   ]
  },
  {
   "cell_type": "code",
   "execution_count": 88,
   "metadata": {},
   "outputs": [
    {
     "data": {
      "text/plain": [
       "[<matplotlib.lines.Line2D at 0x7fb42f9eab00>]"
      ]
     },
     "execution_count": 88,
     "metadata": {},
     "output_type": "execute_result"
    },
    {
     "data": {
      "image/png": "[encoded data removed]",
      "text/plain": [
       "<Figure size 864x576 with 1 Axes>"
      ]
     },
     "metadata": {
      "needs_background": "light"
     },
     "output_type": "display_data"
    }
   ],
   "source": [
    "n = 1000\n",
    "\n",
    "loc = m\n",
    "scale = np.sqrt(d / n)\n",
    "\n",
    "samples = get_mean_samples_binomial(n)\n",
    "\n",
    "ox = np.linspace(loc - 4 * scale, loc + 4 * scale, 1000)\n",
    "oy = np.array([pdf_normal(loc, scale, x) for x in ox])\n",
    "\n",
    "plt.hist(samples, density=True, bins=20)\n",
    "plt.plot(ox, oy)"
   ]
  },
  {
   "cell_type": "markdown",
   "metadata": {},
   "source": [
    "### Упражнения"
   ]
  },
  {
   "cell_type": "markdown",
   "metadata": {},
   "source": [
    "__Задача 1__\n",
    "\n",
    "О непрерывной равномерно распределенной случайной величине `B` известно, что ее дисперсия равна 0.2. Можно ли найти правую границу величины `B` и ее среднее значение зная, что левая граница равна 0.5? Если да, найдите ее.\n",
    "\n",
    "__Задача 2__\n",
    "\n",
    "На сколько сигм (средних квадратических отклонений) отклоняется рост человека, равный 190 см, от математического ожидания роста в популяции, в которой `M(X) = 178` и `D(X) = 25`?\n",
    "\n",
    "__Задача 3__\n",
    "\n",
    "Рост взрослого населения города `X` имеет нормальное распределение, причем, средний рост равен 174 см, а среднее квадратическое отклонение равно 8 см. Без использования сторонних библиотек (`numpy`, `scipy`, `pandas` и пр.) посчитайте, какова вероятность того, что случайным образом выбранный взрослый человек имеет рост:\n",
    "1. больше 182 см?\n",
    "2. больше 190 см?\n",
    "3. от 166 см до 190 см?\n",
    "4. от 166 см до 182 см?\n",
    "5. от 158 см до 190 см?\n",
    "6. не выше 150 см или не ниже 190 см?\n",
    "7. не выше 150 см или не ниже 198 см?\n",
    "8. ниже 166 см?\n",
    "\n",
    "_Подсказка_: всё необходимое для решения этого задания было в уроке 4.\n",
    "\n",
    "__Задача 4__ (на подумать)\n",
    "\n",
    "Каким образом связаны между собой понятие квантиля и правила двух и трёх сигм? \n",
    "\n",
    "Данное задание - на подумать, оформлять его не обязательно. Этот вопрос мы обсудим в начале следующего занятия."
   ]
  }
 ],
 "metadata": {
  "colab": {
   "name": "Матстат - Урок 4.ipynb",
   "provenance": [],
   "version": "0.3.2"
  },
  "kernelspec": {
   "display_name": "Python 3",
   "language": "python",
   "name": "python3"
  },
  "language_info": {
   "codemirror_mode": {
    "name": "ipython",
    "version": 3
   },
   "file_extension": ".py",
   "mimetype": "text/x-python",
   "name": "python",
   "nbconvert_exporter": "python",
   "pygments_lexer": "ipython3",
   "version": "3.7.3"
  }
 },
 "nbformat": 4,
 "nbformat_minor": 1
}
