{
 "cells": [
  {
   "cell_type": "markdown",
   "metadata": {},
   "source": [
    "Контрольная работа состоит из 3 вопросов. \n",
    "На каждый вопрос приведено 4 варианта ответа, один из которых правильный. \n",
    "Составить закон распределения числа правильных ответов при простом угадывании.\n",
    "Найти()M X, ()D X"
   ]
  },
  {
   "cell_type": "code",
   "execution_count": 6,
   "metadata": {},
   "outputs": [],
   "source": [
    "import numpy as np"
   ]
  },
  {
   "cell_type": "code",
   "execution_count": 132,
   "metadata": {},
   "outputs": [],
   "source": [
    "# def bernulli_tick(full_var: float,  know_answer:float)-> float:\n",
    "\n",
    "\n",
    "def bernulli_tick(ticket: int, var_ques: int, know_answer:int)-> int:\n",
    "   \n",
    "    C = np.math.factorial(ticket)/(np.math.factorial(ticket - know_answer)*np.math.factorial(know_answer)) \n",
    "    \n",
    "    p = 1/var_ques\n",
    "    \n",
    "    p_k = p**know_answer\n",
    "    n_k = ticket - know_answer\n",
    "    \n",
    "    P = C* p_k *((1-p)** n_k)\n",
    "    \n",
    "    return P\n",
    "#     for i in range(0,ticket):\n",
    "#         print(bernulli_tick())\n"
   ]
  },
  {
   "cell_type": "code",
   "execution_count": 135,
   "metadata": {},
   "outputs": [
    {
     "name": "stdout",
     "output_type": "stream",
     "text": [
      "Вероятность ответа на 1 вопросов:  0.421875\n",
      "Вероятность ответа на 2 вопросов:  0.421875\n",
      "Вероятность ответа на 3 вопросов:  0.140625\n",
      "Вероятность ответа на 4 вопросов:  0.015625\n"
     ]
    }
   ],
   "source": [
    "\n",
    "print('Вероятность ответа на 1 вопросов: ',bernulli_tick(3,4,0))\n",
    "print('Вероятность ответа на 2 вопросов: ',bernulli_tick(3,4,1))\n",
    "print('Вероятность ответа на 3 вопросов: ',bernulli_tick(3,4,2))\n",
    "print('Вероятность ответа на 4 вопросов: ',bernulli_tick(3,4,3))\n",
    "\n",
    "\n"
   ]
  },
  {
   "cell_type": "code",
   "execution_count": 136,
   "metadata": {},
   "outputs": [
    {
     "data": {
      "text/plain": [
       "(0.75, 0.5625)"
      ]
     },
     "execution_count": 136,
     "metadata": {},
     "output_type": "execute_result"
    }
   ],
   "source": [
    "Mx = 3 * 1/4\n",
    "Dx = 3 * 1/4 *(1- 1/4)\n",
    "\n",
    "Mx, Dx"
   ]
  },
  {
   "cell_type": "markdown",
   "metadata": {},
   "source": [
    "Задача 2\n",
    "\n",
    "Вероятность попадания в цель при одном выстреле равна 0.01. Какова вероятность того, что число попаданий при 200 выстрелах будет не менее 5 и не более 10?\n"
   ]
  },
  {
   "cell_type": "code",
   "execution_count": 164,
   "metadata": {},
   "outputs": [],
   "source": [
    "\n",
    "\n",
    "def bernulli_shot(all_shot: int, p: int, hit:int)-> int:\n",
    "   \n",
    "    C = np.math.factorial(all_shot)/(np.math.factorial(all_shot - hit)*np.math.factorial(hit)) \n",
    "    \n",
    "#     p = 0.01\n",
    "    \n",
    "    p_k = p**hit\n",
    "    n_k = all_shot - hit\n",
    "    \n",
    "    P = C* p_k *((1-p)** n_k)\n",
    "    \n",
    "    return P\n",
    "    \n",
    "    "
   ]
  },
  {
   "cell_type": "code",
   "execution_count": 169,
   "metadata": {},
   "outputs": [
    {
     "name": "stdout",
     "output_type": "stream",
     "text": [
      "Вероятность попадания при 10 выстрелах:3.326003843593443e-05\n",
      "Вероятность попадания при 5 выстрелах:0.03572335672160829\n"
     ]
    }
   ],
   "source": [
    "# print(bernulli_shot(200, 0.01, 5)\n",
    "print('Вероятность попадания при {} выстрелах:{}'. format(10, bernulli_shot(200, 0.01, 10)))\n",
    "print('Вероятность попадания при {} выстрелах:{}'. format(5, bernulli_shot(200, 0.01, 5)))\n",
    "\n"
   ]
  },
  {
   "cell_type": "code",
   "execution_count": null,
   "metadata": {},
   "outputs": [],
   "source": []
  }
 ],
 "metadata": {
  "kernelspec": {
   "display_name": "Python 3",
   "language": "python",
   "name": "python3"
  },
  "language_info": {
   "codemirror_mode": {
    "name": "ipython",
    "version": 3
   },
   "file_extension": ".py",
   "mimetype": "text/x-python",
   "name": "python",
   "nbconvert_exporter": "python",
   "pygments_lexer": "ipython3",
   "version": "3.7.3"
  }
 },
 "nbformat": 4,
 "nbformat_minor": 2
}
