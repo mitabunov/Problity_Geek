{
 "cells": [
  {
   "cell_type": "code",
   "execution_count": 72,
   "metadata": {},
   "outputs": [],
   "source": [
    "import warnings\n",
    "\n",
    "import numpy as np\n",
    "import pandas as pd\n",
    "from matplotlib import pyplot as plt\n",
    "from scipy import stats\n",
    "\n"
   ]
  },
  {
   "cell_type": "markdown",
   "metadata": {},
   "source": [
    "\n",
    "Без использования статистических функций вроде mean, std, var, посчитать среднее арифметическое, среднее квадратичное отклонение, смещённую и несмещённую оценки дисперсии для данной выборки.\n"
   ]
  },
  {
   "cell_type": "code",
   "execution_count": 108,
   "metadata": {},
   "outputs": [
    {
     "data": {
      "text/plain": [
       "(60, 60.3)"
      ]
     },
     "execution_count": 108,
     "metadata": {},
     "output_type": "execute_result"
    }
   ],
   "source": [
    "df= [0, 80, 75, 77, 89, 33, 45, 25, 65, 17, 30, 24, 57, 55, 70, 75, 65, 84, 90, 150]\n",
    "\n",
    "df_DF = pd.DataFrame(df, index=None)\n",
    "df_mean= int(sum(df)/len(df))\n",
    "df_s = sum(df)\n",
    "\n",
    "df_mean, np.mean(df)#,sum(df), len(df),type(df), df_DF"
   ]
  },
  {
   "cell_type": "code",
   "execution_count": 109,
   "metadata": {},
   "outputs": [
    {
     "name": "stdout",
     "output_type": "stream",
     "text": [
      "Среднее квадратичное отклонение: 0    32.834585\n",
      "dtype: float64, проверка: 0    32.834585\n",
      "dtype: float64 \n"
     ]
    }
   ],
   "source": [
    "# df_ss = ((df_s - df_mean)**2)**0.5/len(df)\n",
    "df_std = np.sqrt(((df_DF - df_DF.mean()) ** 2).sum() / df_DF.count())\n",
    "check = df_DF.std(ddof=0)\n",
    "\n",
    "print('Среднее квадратичное отклонение: {}, проверка: {} '. format(df_std, check))"
   ]
  },
  {
   "cell_type": "code",
   "execution_count": 112,
   "metadata": {},
   "outputs": [
    {
     "name": "stdout",
     "output_type": "stream",
     "text": [
      "Oценки дисперсии - cмещённая: 0    1078.11\n",
      "dtype: float64 , несмещённая: 0    1134.852632\n",
      "dtype: float64\n"
     ]
    },
    {
     "data": {
      "text/plain": [
       "(0    1078.11\n",
       " dtype: float64, 0    1134.852632\n",
       " dtype: float64)"
      ]
     },
     "execution_count": 112,
     "metadata": {},
     "output_type": "execute_result"
    }
   ],
   "source": [
    "df_Disp_S =((df_DF - df_DF.mean()) ** 2).sum() / df_DF.count()\n",
    "df_Disp_N = abs((df_DF - df_DF.mean()) ** 2).sum() / (df_DF.count()-1)\n",
    "    \n",
    "print('Oценки дисперсии - cмещённая: {} , несмещённая: {}'.format(df_Disp_S, df_Disp_N )  )\n",
    "df_DF.var(ddof=0), df_DF.var(ddof=1)    "
   ]
  },
  {
   "cell_type": "markdown",
   "metadata": {},
   "source": [
    "Для выборки из задачи 1 найти первый и третий квартили, интерквартильное расстояние. Найти выборсы в выборке, используя для этого \"усы\" из boxplot.\n",
    "\n",
    "В этой задаче также нельзя использовать статистические функции. Неоднозначности в вычислении квантилей можно разрешать любым способом"
   ]
  },
  {
   "cell_type": "code",
   "execution_count": 118,
   "metadata": {},
   "outputs": [
    {
     "data": {
      "text/plain": [
       "20"
      ]
     },
     "execution_count": 118,
     "metadata": {},
     "output_type": "execute_result"
    }
   ],
   "source": [
    "df_len=len(sorted(df))\n",
    "df_len"
   ]
  },
  {
   "cell_type": "code",
   "execution_count": 161,
   "metadata": {},
   "outputs": [
    {
     "name": "stdout",
     "output_type": "stream",
     "text": [
      "1_Qrtl: [0, 80, 75, 77, 89, 33, 45, 25, 65, 17], 3_Qrtl: [30, 24, 57, 55, 70, 75, 65, 84, 90, 150]\n"
     ]
    },
    {
     "data": {
      "text/plain": [
       "(array([32.25, 77.75]),           0\n",
       " 0.25  32.25\n",
       " 0.60  72.00\n",
       " 0.75  77.75)"
      ]
     },
     "execution_count": 161,
     "metadata": {},
     "output_type": "execute_result"
    }
   ],
   "source": [
    "erste = df[df_len // 4 - 5 : df_len // 4 + 5]\n",
    "dritte = df[df_len*3// 4-5 : df_len*3 // 4 + 5]\n",
    "\n",
    "print('1_Qrtl: {}, 3_Qrtl: {}'. format(erste, dritte))\n",
    "df_DF.quantile(0.25), df_DF.quantile(0.75)\n",
    "\n",
    "np.quantile(df, [0.25, 0.75]), df_DF.quantile([0.25, 0.6, 0.75])\n",
    "# sum(erste), df_len*(1/2)\n",
    "\n"
   ]
  },
  {
   "cell_type": "code",
   "execution_count": 131,
   "metadata": {},
   "outputs": [
    {
     "data": {
      "text/plain": [
       "<matplotlib.axes._subplots.AxesSubplot at 0x7f7db5883d30>"
      ]
     },
     "execution_count": 131,
     "metadata": {},
     "output_type": "execute_result"
    },
    {
     "data": {
      "image/png": "[encoded data removed]",
      "text/plain": [
       "<Figure size 432x288 with 1 Axes>"
      ]
     },
     "metadata": {
      "needs_background": "light"
     },
     "output_type": "display_data"
    }
   ],
   "source": [
    "\n",
    "df_DF.boxplot()\n"
   ]
  },
  {
   "cell_type": "code",
   "execution_count": 128,
   "metadata": {
    "scrolled": true
   },
   "outputs": [
    {
     "data": {
      "text/plain": [
       "array([[<matplotlib.axes._subplots.AxesSubplot object at 0x7f7db590d908>]],\n",
       "      dtype=object)"
      ]
     },
     "execution_count": 128,
     "metadata": {},
     "output_type": "execute_result"
    },
    {
     "data": {
      "image/png": "[encoded data removed]",
      "text/plain": [
       "<Figure size 432x288 with 1 Axes>"
      ]
     },
     "metadata": {
      "needs_background": "light"
     },
     "output_type": "display_data"
    }
   ],
   "source": [
    "df_DF.hist(bins=10)"
   ]
  },
  {
   "cell_type": "code",
   "execution_count": 166,
   "metadata": {},
   "outputs": [
    {
     "data": {
      "text/plain": [
       "(0   -36.0\n",
       " dtype: float64, 0    146.0\n",
       " dtype: float64)"
      ]
     },
     "execution_count": 166,
     "metadata": {},
     "output_type": "execute_result"
    }
   ],
   "source": [
    "q1 = df_DF.quantile(0.25)\n",
    "q3 = df_DF.quantile(0.75)\n",
    "\n",
    "iqr = q3 - q1\n",
    "\n",
    "boxplot_range = (q1 - 1.5 * iqr, q3 + 1.5 * iqr)\n",
    "boxplot_range\n",
    "\n",
    "# Не могу въехать => откуда взялось =>  -36(!??)\n"
   ]
  },
  {
   "cell_type": "code",
   "execution_count": 175,
   "metadata": {},
   "outputs": [
    {
     "data": {
      "text/plain": [
       "(20, 1.0)"
      ]
     },
     "execution_count": 175,
     "metadata": {},
     "output_type": "execute_result"
    }
   ],
   "source": [
    "outliers = (df_DF < boxplot_range[0]) | (df_DF > boxplot_range[1])\n",
    "\n",
    "outliers.shape[0], outliers.shape[0] / df_DF.shape[0]\n",
    "# outliers"
   ]
  },
  {
   "cell_type": "markdown",
   "metadata": {},
   "source": [
    "\n",
    "\n",
    "В университет на факультеты A и B поступило равное количество студентов, а на факультет C студентов поступило столько же, сколько на A и B вместе. \n",
    "Вероятность того, что студент факультета A сдаст первую сессию, равна 0.8. \n",
    "Для студента факультета B эта вероятность равна 0.7, \n",
    "\n",
    "а для студента факультета C - 0.9. \n",
    "\n",
    "Студент сдал первую сессию. \n",
    "\n",
    "Какова вероятность, что он учится: a) на факультете A? б) на факультете B? в) на факультете C?"
   ]
  },
  {
   "cell_type": "code",
   "execution_count": null,
   "metadata": {},
   "outputs": [],
   "source": [
    "# def bernulli_tick(full_var: float,  know_answer:float)-> float:\n",
    "\n",
    "\n",
    "def bernulli_tick(ticket: int, var_ques: int, know_answer:int)-> int:\n",
    "   \n",
    "    C = np.math.factorial(ticket)/(np.math.factorial(ticket - know_answer)*np.math.factorial(know_answer)) \n",
    "    \n",
    "    p = 1/var_ques\n",
    "    \n",
    "    p_k = p**know_answer\n",
    "    n_k = ticket - know_answer\n",
    "    \n",
    "    P = C* p_k *((1-p)** n_k)\n",
    "    \n",
    "    return P\n",
    "#     for i in range(0,ticket):\n",
    "#         print(bernulli_tick())"
   ]
  },
  {
   "cell_type": "code",
   "execution_count": null,
   "metadata": {},
   "outputs": [],
   "source": [
    "\n",
    "def bernulli_shot(all_shot: int, p: int, hit:int)-> int:\n",
    "   \n",
    "    C = np.math.factorial(all_shot)/(np.math.factorial(all_shot - hit)*np.math.factorial(hit)) \n",
    "    \n",
    "#     p = 0.01\n",
    "    \n",
    "    p_k = p**hit\n",
    "    n_k = all_shot - hit\n",
    "    \n",
    "    P = C* p_k *((1-p)** n_k)\n",
    "    \n",
    "    return P"
   ]
  }
 ],
 "metadata": {
  "kernelspec": {
   "display_name": "Python 3",
   "language": "python",
   "name": "python3"
  },
  "language_info": {
   "codemirror_mode": {
    "name": "ipython",
    "version": 3
   },
   "file_extension": ".py",
   "mimetype": "text/x-python",
   "name": "python",
   "nbconvert_exporter": "python",
   "pygments_lexer": "ipython3",
   "version": "3.7.3"
  }
 },
 "nbformat": 4,
 "nbformat_minor": 2
}
