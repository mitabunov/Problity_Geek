{
 "cells": [
  {
   "cell_type": "markdown",
   "metadata": {},
   "source": [
    "Задача 3\n",
    "\n",
    "Рост взрослого населения города X имеет нормальное распределение, причем, \n",
    "средний рост равен 174 см,\n",
    "а среднее квадратическое отклонение равно 8 см. \n",
    "Без использования сторонних библиотек (numpy, scipy, pandas и пр.) посчитайте, какова вероятность того, что случайным образом выбранный взрослый человек имеет рост:\n",
    "\n",
    "    больше 182 см?\n",
    "    больше 190 см?\n",
    "    от 166 см до 190 см?\n",
    "    от 166 см до 182 см?\n",
    "    от 158 см до 190 см?\n",
    "    не выше 150 см или не ниже 190 см?\n",
    "    не выше 150 см или не ниже 198 см?\n",
    "    ниже 166 см?\n"
   ]
  },
  {
   "cell_type": "code",
   "execution_count": 76,
   "metadata": {},
   "outputs": [],
   "source": [
    "def pdf_normal(loc: float, scale: float, x: float) -> float:\n",
    "    \n",
    "    \"\"\" Функция плотности нормального распределения.\n",
    "    \"\"\"\n",
    "    \n",
    "    return np.exp(- ((x - loc) ** 2) / (2 * scale ** 2)) / (scale * np.sqrt(2 * np.pi))"
   ]
  },
  {
   "cell_type": "code",
   "execution_count": 89,
   "metadata": {},
   "outputs": [
    {
     "name": "stdout",
     "output_type": "stream",
     "text": [
      "h_l_190_ 0.4932511291858515\n",
      "h_l_182_ 0.46975365943510705\n",
      "h_166_190 0.03699521137904143\n",
      "h_158_190 0.013497741628297016\n",
      "h_150__190 0.9926971481343593\n",
      "h_150__198 0.9988920378970155\n",
      "h__168 0.4623578209806494\n"
     ]
    }
   ],
   "source": [
    "h_l_182_ = (0.5 - pdf_normal(174, 8, 182))\n",
    "h_l_190_ = (0.5 - pdf_normal(174, 8, 190))\n",
    "h_166_190 = pdf_normal(174, 8, 166) + pdf_normal(174, 8, 190)\n",
    "h_166_182 = pdf_normal(174, 8, 166) + pdf_normal(174, 8, 182)\n",
    "h_158_190 = pdf_normal(174, 8, 158) + pdf_normal(174, 8, 190)\n",
    "h_150__190 = (0.5 - pdf_normal(174, 8, 150))+(0.5 - pdf_normal(174, 8, 190))\n",
    "h_150__198 = (0.5 - pdf_normal(174, 8, 150))+(0.5 - pdf_normal(174, 8, 198))\n",
    "h__168 = (0.5 - pdf_normal(174, 8, 168))\n",
    "\n",
    "print('h_l_190_', h_l_190_) \n",
    "print('h_l_182_',h_l_182_)\n",
    "print('h_166_190', h_166_190)\n",
    "print('h_158_190',h_158_190)\n",
    "print('h_150__190',h_150__190)\n",
    "print('h_150__198',h_150__198)\n",
    "print('h__168', h__168)"
   ]
  },
  {
   "cell_type": "markdown",
   "metadata": {},
   "source": [
    "Задача 2\n",
    "\n",
    "На сколько сигм (средних квадратических отклонений) отклоняется рост человека, равный 190 см, от математического ожидания роста в популяции, в которой M(X) = 178 и D(X) = 25"
   ]
  },
  {
   "cell_type": "code",
   "execution_count": 97,
   "metadata": {},
   "outputs": [
    {
     "name": "stdout",
     "output_type": "stream",
     "text": [
      "0.49552109394103144 , т.е отклоняется на одну сигму\n"
     ]
    }
   ],
   "source": [
    "sigma_190 = (0.5 - pdf_normal(178,5,190))\n",
    "print('{} , т.е отклоняется на одну сигму'.format(sigma_190))"
   ]
  },
  {
   "cell_type": "code",
   "execution_count": null,
   "metadata": {},
   "outputs": [],
   "source": []
  },
  {
   "cell_type": "code",
   "execution_count": null,
   "metadata": {},
   "outputs": [],
   "source": []
  },
  {
   "cell_type": "code",
   "execution_count": null,
   "metadata": {},
   "outputs": [],
   "source": []
  },
  {
   "cell_type": "markdown",
   "metadata": {},
   "source": [
    "import math\n",
    "import numpy aas np\n",
    "import matplotlib.pyplot as plt\n",
    "\n",
    "\n",
    "def gaussian(x, mu, sigma):\n",
    "    return math.exp(-0.5*((x-mu)/sigma)**2) / sigma / math.sqrt(2*math.pi)\n",
    "\n",
    "xs = np.arange(-8, 8, 0.05) # Сетка значений по оси абсцисс.\n",
    "p1, = plt.plot(xs, [gaussian(x, 0, 0.5) for x in xs], label='$\\sigma = 0.5$')\n",
    "p2, = plt.plot(xs, [gaussian(x, 0, 1) for x in xs], label='$\\sigma = 1$')\n",
    "p3, = plt.plot(xs, [gaussian(x, 0, 2) for x in xs], label='$\\sigma = 2$')\n",
    "plt.legend()\n",
    "plt.show()"
   ]
  },
  {
   "cell_type": "markdown",
   "metadata": {},
   "source": [
    "%pylab inline\n",
    "import numpy as np\n",
    "import matplotlib.pyplot as plt\n",
    "from IPython.html.widgets import interact, interactive, fixed\n",
    "import IPython.html.widgets as widgets\n",
    "\n",
    "\n"
   ]
  },
  {
   "cell_type": "markdown",
   "metadata": {},
   "source": [
    "def interactiveGaussian(mu, sigma):\n",
    "    xs = np.arange(-8, 8, 0.1)\n",
    "    ys = [gaussian (x, mu, sigma) for x in xs]\n",
    "    plt.plot(xs, ys)\n",
    "    plt.ylim((0, 1))  # Диапазон по оси ординат.\n",
    "    plt.show()\n",
    "\n",
    "interact(interactiveGaussian, mu=(-10, 10), sigma=widgets.FloatSliderWidget(value=0.5, min=0.1, max=5))"
   ]
  },
  {
   "cell_type": "markdown",
   "metadata": {},
   "source": [
    "interactiveGaussian(174,8)"
   ]
  },
  {
   "cell_type": "markdown",
   "metadata": {},
   "source": [
    "from scipy.stats import norm\n",
    "norm1 = norm(174, 8)    # Нормальное распределение со средним 2 и ср.кв.отклонением 5.\n",
    "print(norm1.pdf(182)) # Значение функции распределения в точке 0.2.\n",
    "print (gaussian(182, 174, 8)) "
   ]
  },
  {
   "cell_type": "markdown",
   "metadata": {},
   "source": [
    "def pdf_normal(loc: float, scale: float, x: float) -> float:\n",
    "    \"\"\"Функция плотности нормального распределения.\n",
    "    \"\"\"\n",
    "    \n",
    "    return np.exp(- ((x - loc) ** 2) / (2 * scale ** 2)) / (scale * np.sqrt(2 * np.pi))"
   ]
  }
 ],
 "metadata": {
  "kernelspec": {
   "display_name": "Python 3",
   "language": "python",
   "name": "python3"
  },
  "language_info": {
   "codemirror_mode": {
    "name": "ipython",
    "version": 3
   },
   "file_extension": ".py",
   "mimetype": "text/x-python",
   "name": "python",
   "nbconvert_exporter": "python",
   "pygments_lexer": "ipython3",
   "version": "3.7.3"
  }
 },
 "nbformat": 4,
 "nbformat_minor": 2
}
